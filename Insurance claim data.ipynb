{
 "cells": [
  {
   "cell_type": "markdown",
   "id": "d32a42e5",
   "metadata": {},
   "source": [
    "### Import packages:"
   ]
  },
  {
   "cell_type": "code",
   "execution_count": 114,
   "id": "d292f398",
   "metadata": {},
   "outputs": [],
   "source": [
    "# Data manipulations\n",
    "import numpy as np\n",
    "import pandas as pd\n",
    "\n",
    "# Data visualization\n",
    "import matplotlib.pyplot as plt\n",
    "import seaborn as sns\n",
    "\n",
    "# Statistical tests:\n",
    "import scipy.stats as stats"
   ]
  },
  {
   "cell_type": "markdown",
   "id": "94b0e12a",
   "metadata": {},
   "source": [
    "### 1. Import claims_data.csv and cust_data.csv which is provided to you and combine the two datasets appropriately to create a 360-degree view of the data. Use the same for the subsequent questions."
   ]
  },
  {
   "cell_type": "code",
   "execution_count": 115,
   "id": "74dfdd56",
   "metadata": {},
   "outputs": [
    {
     "data": {
      "text/html": [
       "<div>\n",
       "<style scoped>\n",
       "    .dataframe tbody tr th:only-of-type {\n",
       "        vertical-align: middle;\n",
       "    }\n",
       "\n",
       "    .dataframe tbody tr th {\n",
       "        vertical-align: top;\n",
       "    }\n",
       "\n",
       "    .dataframe thead th {\n",
       "        text-align: right;\n",
       "    }\n",
       "</style>\n",
       "<table border=\"1\" class=\"dataframe\">\n",
       "  <thead>\n",
       "    <tr style=\"text-align: right;\">\n",
       "      <th></th>\n",
       "      <th>claim_id</th>\n",
       "      <th>customer_id</th>\n",
       "      <th>incident_cause</th>\n",
       "      <th>claim_date</th>\n",
       "      <th>claim_area</th>\n",
       "      <th>police_report</th>\n",
       "      <th>claim_type</th>\n",
       "      <th>claim_amount</th>\n",
       "      <th>total_policy_claims</th>\n",
       "      <th>fraudulent</th>\n",
       "    </tr>\n",
       "  </thead>\n",
       "  <tbody>\n",
       "    <tr>\n",
       "      <th>0</th>\n",
       "      <td>54004764</td>\n",
       "      <td>21868593</td>\n",
       "      <td>Driver error</td>\n",
       "      <td>11/27/2017</td>\n",
       "      <td>Auto</td>\n",
       "      <td>No</td>\n",
       "      <td>Material only</td>\n",
       "      <td>$2980</td>\n",
       "      <td>1.0</td>\n",
       "      <td>No</td>\n",
       "    </tr>\n",
       "    <tr>\n",
       "      <th>1</th>\n",
       "      <td>33985796</td>\n",
       "      <td>75740424</td>\n",
       "      <td>Crime</td>\n",
       "      <td>10/03/2018</td>\n",
       "      <td>Home</td>\n",
       "      <td>Unknown</td>\n",
       "      <td>Material only</td>\n",
       "      <td>$2980</td>\n",
       "      <td>3.0</td>\n",
       "      <td>No</td>\n",
       "    </tr>\n",
       "    <tr>\n",
       "      <th>2</th>\n",
       "      <td>53522022</td>\n",
       "      <td>30308357</td>\n",
       "      <td>Other driver error</td>\n",
       "      <td>02/02/2018</td>\n",
       "      <td>Auto</td>\n",
       "      <td>No</td>\n",
       "      <td>Material only</td>\n",
       "      <td>$3369.5</td>\n",
       "      <td>1.0</td>\n",
       "      <td>Yes</td>\n",
       "    </tr>\n",
       "    <tr>\n",
       "      <th>3</th>\n",
       "      <td>13015401</td>\n",
       "      <td>47830476</td>\n",
       "      <td>Natural causes</td>\n",
       "      <td>06/17/2018</td>\n",
       "      <td>Auto</td>\n",
       "      <td>No</td>\n",
       "      <td>Material only</td>\n",
       "      <td>$1680</td>\n",
       "      <td>1.0</td>\n",
       "      <td>No</td>\n",
       "    </tr>\n",
       "    <tr>\n",
       "      <th>4</th>\n",
       "      <td>22890252</td>\n",
       "      <td>19269962</td>\n",
       "      <td>Crime</td>\n",
       "      <td>01/13/2018</td>\n",
       "      <td>Auto</td>\n",
       "      <td>No</td>\n",
       "      <td>Material only</td>\n",
       "      <td>$2680</td>\n",
       "      <td>1.0</td>\n",
       "      <td>No</td>\n",
       "    </tr>\n",
       "  </tbody>\n",
       "</table>\n",
       "</div>"
      ],
      "text/plain": [
       "   claim_id  customer_id      incident_cause  claim_date claim_area  \\\n",
       "0  54004764     21868593        Driver error  11/27/2017       Auto   \n",
       "1  33985796     75740424               Crime  10/03/2018       Home   \n",
       "2  53522022     30308357  Other driver error  02/02/2018       Auto   \n",
       "3  13015401     47830476      Natural causes  06/17/2018       Auto   \n",
       "4  22890252     19269962               Crime  01/13/2018       Auto   \n",
       "\n",
       "  police_report     claim_type claim_amount  total_policy_claims fraudulent  \n",
       "0            No  Material only        $2980                  1.0         No  \n",
       "1       Unknown  Material only        $2980                  3.0         No  \n",
       "2            No  Material only      $3369.5                  1.0        Yes  \n",
       "3            No  Material only        $1680                  1.0         No  \n",
       "4            No  Material only        $2680                  1.0         No  "
      ]
     },
     "execution_count": 115,
     "metadata": {},
     "output_type": "execute_result"
    }
   ],
   "source": [
    "claims = pd.read_csv(\"E:\\PYTHON_ANALYTICSLAB\\Case Study 3 - Insurance Claims Case Study\\claims.csv\")\n",
    "claims.head()"
   ]
  },
  {
   "cell_type": "code",
   "execution_count": 116,
   "id": "4f3b85dc",
   "metadata": {},
   "outputs": [
    {
     "name": "stdout",
     "output_type": "stream",
     "text": [
      "<class 'pandas.core.frame.DataFrame'>\n",
      "RangeIndex: 1100 entries, 0 to 1099\n",
      "Data columns (total 10 columns):\n",
      " #   Column               Non-Null Count  Dtype  \n",
      "---  ------               --------------  -----  \n",
      " 0   claim_id             1100 non-null   int64  \n",
      " 1   customer_id          1100 non-null   int64  \n",
      " 2   incident_cause       1100 non-null   object \n",
      " 3   claim_date           1100 non-null   object \n",
      " 4   claim_area           1100 non-null   object \n",
      " 5   police_report        1100 non-null   object \n",
      " 6   claim_type           1100 non-null   object \n",
      " 7   claim_amount         1035 non-null   object \n",
      " 8   total_policy_claims  1090 non-null   float64\n",
      " 9   fraudulent           1100 non-null   object \n",
      "dtypes: float64(1), int64(2), object(7)\n",
      "memory usage: 86.1+ KB\n"
     ]
    }
   ],
   "source": [
    "claims.info()"
   ]
  },
  {
   "cell_type": "code",
   "execution_count": 117,
   "id": "8d93f119",
   "metadata": {},
   "outputs": [
    {
     "data": {
      "text/html": [
       "<div>\n",
       "<style scoped>\n",
       "    .dataframe tbody tr th:only-of-type {\n",
       "        vertical-align: middle;\n",
       "    }\n",
       "\n",
       "    .dataframe tbody tr th {\n",
       "        vertical-align: top;\n",
       "    }\n",
       "\n",
       "    .dataframe thead th {\n",
       "        text-align: right;\n",
       "    }\n",
       "</style>\n",
       "<table border=\"1\" class=\"dataframe\">\n",
       "  <thead>\n",
       "    <tr style=\"text-align: right;\">\n",
       "      <th></th>\n",
       "      <th>CUST_ID</th>\n",
       "      <th>gender</th>\n",
       "      <th>DateOfBirth</th>\n",
       "      <th>State</th>\n",
       "      <th>Contact</th>\n",
       "      <th>Segment</th>\n",
       "    </tr>\n",
       "  </thead>\n",
       "  <tbody>\n",
       "    <tr>\n",
       "      <th>0</th>\n",
       "      <td>21868593</td>\n",
       "      <td>Female</td>\n",
       "      <td>12-Jan-79</td>\n",
       "      <td>VT</td>\n",
       "      <td>789-916-8172</td>\n",
       "      <td>Platinum</td>\n",
       "    </tr>\n",
       "    <tr>\n",
       "      <th>1</th>\n",
       "      <td>75740424</td>\n",
       "      <td>Female</td>\n",
       "      <td>13-Jan-70</td>\n",
       "      <td>ME</td>\n",
       "      <td>265-543-1264</td>\n",
       "      <td>Silver</td>\n",
       "    </tr>\n",
       "    <tr>\n",
       "      <th>2</th>\n",
       "      <td>30308357</td>\n",
       "      <td>Female</td>\n",
       "      <td>11-Mar-84</td>\n",
       "      <td>TN</td>\n",
       "      <td>798-631-4758</td>\n",
       "      <td>Silver</td>\n",
       "    </tr>\n",
       "    <tr>\n",
       "      <th>3</th>\n",
       "      <td>47830476</td>\n",
       "      <td>Female</td>\n",
       "      <td>01-May-86</td>\n",
       "      <td>MA</td>\n",
       "      <td>413-187-7945</td>\n",
       "      <td>Silver</td>\n",
       "    </tr>\n",
       "    <tr>\n",
       "      <th>4</th>\n",
       "      <td>19269962</td>\n",
       "      <td>Male</td>\n",
       "      <td>13-May-77</td>\n",
       "      <td>NV</td>\n",
       "      <td>956-871-8691</td>\n",
       "      <td>Gold</td>\n",
       "    </tr>\n",
       "    <tr>\n",
       "      <th>...</th>\n",
       "      <td>...</td>\n",
       "      <td>...</td>\n",
       "      <td>...</td>\n",
       "      <td>...</td>\n",
       "      <td>...</td>\n",
       "      <td>...</td>\n",
       "    </tr>\n",
       "    <tr>\n",
       "      <th>1080</th>\n",
       "      <td>79539873</td>\n",
       "      <td>Female</td>\n",
       "      <td>15-Mar-81</td>\n",
       "      <td>ND</td>\n",
       "      <td>459-425-4319</td>\n",
       "      <td>Platinum</td>\n",
       "    </tr>\n",
       "    <tr>\n",
       "      <th>1081</th>\n",
       "      <td>42364152</td>\n",
       "      <td>Female</td>\n",
       "      <td>07-Jul-96</td>\n",
       "      <td>ID</td>\n",
       "      <td>529-462-1635</td>\n",
       "      <td>Silver</td>\n",
       "    </tr>\n",
       "    <tr>\n",
       "      <th>1082</th>\n",
       "      <td>19888166</td>\n",
       "      <td>Male</td>\n",
       "      <td>11-Apr-90</td>\n",
       "      <td>WI</td>\n",
       "      <td>712-651-9613</td>\n",
       "      <td>Gold</td>\n",
       "    </tr>\n",
       "    <tr>\n",
       "      <th>1083</th>\n",
       "      <td>11256802</td>\n",
       "      <td>Female</td>\n",
       "      <td>22-Oct-64</td>\n",
       "      <td>LA</td>\n",
       "      <td>469-345-5617</td>\n",
       "      <td>Silver</td>\n",
       "    </tr>\n",
       "    <tr>\n",
       "      <th>1084</th>\n",
       "      <td>61575264</td>\n",
       "      <td>Male</td>\n",
       "      <td>12-Jul-95</td>\n",
       "      <td>WY</td>\n",
       "      <td>182-385-1392</td>\n",
       "      <td>Gold</td>\n",
       "    </tr>\n",
       "  </tbody>\n",
       "</table>\n",
       "<p>1085 rows × 6 columns</p>\n",
       "</div>"
      ],
      "text/plain": [
       "       CUST_ID  gender DateOfBirth State       Contact   Segment\n",
       "0     21868593  Female   12-Jan-79    VT  789-916-8172  Platinum\n",
       "1     75740424  Female   13-Jan-70    ME  265-543-1264    Silver\n",
       "2     30308357  Female   11-Mar-84    TN  798-631-4758    Silver\n",
       "3     47830476  Female   01-May-86    MA  413-187-7945    Silver\n",
       "4     19269962    Male   13-May-77    NV  956-871-8691      Gold\n",
       "...        ...     ...         ...   ...           ...       ...\n",
       "1080  79539873  Female   15-Mar-81    ND  459-425-4319  Platinum\n",
       "1081  42364152  Female   07-Jul-96    ID  529-462-1635    Silver\n",
       "1082  19888166    Male   11-Apr-90    WI  712-651-9613      Gold\n",
       "1083  11256802  Female   22-Oct-64    LA  469-345-5617    Silver\n",
       "1084  61575264    Male   12-Jul-95    WY  182-385-1392      Gold\n",
       "\n",
       "[1085 rows x 6 columns]"
      ]
     },
     "execution_count": 117,
     "metadata": {},
     "output_type": "execute_result"
    }
   ],
   "source": [
    "cust_demographics = pd.read_csv(\"E:\\PYTHON_ANALYTICSLAB\\Case Study 3 - Insurance Claims Case Study\\cust_demographics.csv\")\n",
    "cust_demographics"
   ]
  },
  {
   "cell_type": "code",
   "execution_count": 118,
   "id": "3fb9216f",
   "metadata": {},
   "outputs": [
    {
     "name": "stdout",
     "output_type": "stream",
     "text": [
      "<class 'pandas.core.frame.DataFrame'>\n",
      "RangeIndex: 1085 entries, 0 to 1084\n",
      "Data columns (total 6 columns):\n",
      " #   Column       Non-Null Count  Dtype \n",
      "---  ------       --------------  ----- \n",
      " 0   CUST_ID      1085 non-null   int64 \n",
      " 1   gender       1085 non-null   object\n",
      " 2   DateOfBirth  1085 non-null   object\n",
      " 3   State        1085 non-null   object\n",
      " 4   Contact      1085 non-null   object\n",
      " 5   Segment      1085 non-null   object\n",
      "dtypes: int64(1), object(5)\n",
      "memory usage: 51.0+ KB\n"
     ]
    }
   ],
   "source": [
    "cust_demographics.info()"
   ]
  },
  {
   "cell_type": "markdown",
   "id": "66f50491",
   "metadata": {},
   "source": [
    "### Combine the two datasets:"
   ]
  },
  {
   "cell_type": "code",
   "execution_count": 119,
   "id": "6ea677ac",
   "metadata": {},
   "outputs": [
    {
     "data": {
      "text/html": [
       "<div>\n",
       "<style scoped>\n",
       "    .dataframe tbody tr th:only-of-type {\n",
       "        vertical-align: middle;\n",
       "    }\n",
       "\n",
       "    .dataframe tbody tr th {\n",
       "        vertical-align: top;\n",
       "    }\n",
       "\n",
       "    .dataframe thead th {\n",
       "        text-align: right;\n",
       "    }\n",
       "</style>\n",
       "<table border=\"1\" class=\"dataframe\">\n",
       "  <thead>\n",
       "    <tr style=\"text-align: right;\">\n",
       "      <th></th>\n",
       "      <th>claim_id</th>\n",
       "      <th>customer_id</th>\n",
       "      <th>incident_cause</th>\n",
       "      <th>claim_date</th>\n",
       "      <th>claim_area</th>\n",
       "      <th>police_report</th>\n",
       "      <th>claim_type</th>\n",
       "      <th>claim_amount</th>\n",
       "      <th>total_policy_claims</th>\n",
       "      <th>fraudulent</th>\n",
       "      <th>CUST_ID</th>\n",
       "      <th>gender</th>\n",
       "      <th>DateOfBirth</th>\n",
       "      <th>State</th>\n",
       "      <th>Contact</th>\n",
       "      <th>Segment</th>\n",
       "    </tr>\n",
       "  </thead>\n",
       "  <tbody>\n",
       "    <tr>\n",
       "      <th>0</th>\n",
       "      <td>54004764</td>\n",
       "      <td>21868593</td>\n",
       "      <td>Driver error</td>\n",
       "      <td>11/27/2017</td>\n",
       "      <td>Auto</td>\n",
       "      <td>No</td>\n",
       "      <td>Material only</td>\n",
       "      <td>$2980</td>\n",
       "      <td>1.0</td>\n",
       "      <td>No</td>\n",
       "      <td>21868593.0</td>\n",
       "      <td>Female</td>\n",
       "      <td>12-Jan-79</td>\n",
       "      <td>VT</td>\n",
       "      <td>789-916-8172</td>\n",
       "      <td>Platinum</td>\n",
       "    </tr>\n",
       "    <tr>\n",
       "      <th>1</th>\n",
       "      <td>33985796</td>\n",
       "      <td>75740424</td>\n",
       "      <td>Crime</td>\n",
       "      <td>10/03/2018</td>\n",
       "      <td>Home</td>\n",
       "      <td>Unknown</td>\n",
       "      <td>Material only</td>\n",
       "      <td>$2980</td>\n",
       "      <td>3.0</td>\n",
       "      <td>No</td>\n",
       "      <td>75740424.0</td>\n",
       "      <td>Female</td>\n",
       "      <td>13-Jan-70</td>\n",
       "      <td>ME</td>\n",
       "      <td>265-543-1264</td>\n",
       "      <td>Silver</td>\n",
       "    </tr>\n",
       "    <tr>\n",
       "      <th>2</th>\n",
       "      <td>53522022</td>\n",
       "      <td>30308357</td>\n",
       "      <td>Other driver error</td>\n",
       "      <td>02/02/2018</td>\n",
       "      <td>Auto</td>\n",
       "      <td>No</td>\n",
       "      <td>Material only</td>\n",
       "      <td>$3369.5</td>\n",
       "      <td>1.0</td>\n",
       "      <td>Yes</td>\n",
       "      <td>30308357.0</td>\n",
       "      <td>Female</td>\n",
       "      <td>11-Mar-84</td>\n",
       "      <td>TN</td>\n",
       "      <td>798-631-4758</td>\n",
       "      <td>Silver</td>\n",
       "    </tr>\n",
       "    <tr>\n",
       "      <th>3</th>\n",
       "      <td>13015401</td>\n",
       "      <td>47830476</td>\n",
       "      <td>Natural causes</td>\n",
       "      <td>06/17/2018</td>\n",
       "      <td>Auto</td>\n",
       "      <td>No</td>\n",
       "      <td>Material only</td>\n",
       "      <td>$1680</td>\n",
       "      <td>1.0</td>\n",
       "      <td>No</td>\n",
       "      <td>47830476.0</td>\n",
       "      <td>Female</td>\n",
       "      <td>01-May-86</td>\n",
       "      <td>MA</td>\n",
       "      <td>413-187-7945</td>\n",
       "      <td>Silver</td>\n",
       "    </tr>\n",
       "    <tr>\n",
       "      <th>4</th>\n",
       "      <td>22890252</td>\n",
       "      <td>19269962</td>\n",
       "      <td>Crime</td>\n",
       "      <td>01/13/2018</td>\n",
       "      <td>Auto</td>\n",
       "      <td>No</td>\n",
       "      <td>Material only</td>\n",
       "      <td>$2680</td>\n",
       "      <td>1.0</td>\n",
       "      <td>No</td>\n",
       "      <td>19269962.0</td>\n",
       "      <td>Male</td>\n",
       "      <td>13-May-77</td>\n",
       "      <td>NV</td>\n",
       "      <td>956-871-8691</td>\n",
       "      <td>Gold</td>\n",
       "    </tr>\n",
       "  </tbody>\n",
       "</table>\n",
       "</div>"
      ],
      "text/plain": [
       "   claim_id  customer_id      incident_cause  claim_date claim_area  \\\n",
       "0  54004764     21868593        Driver error  11/27/2017       Auto   \n",
       "1  33985796     75740424               Crime  10/03/2018       Home   \n",
       "2  53522022     30308357  Other driver error  02/02/2018       Auto   \n",
       "3  13015401     47830476      Natural causes  06/17/2018       Auto   \n",
       "4  22890252     19269962               Crime  01/13/2018       Auto   \n",
       "\n",
       "  police_report     claim_type claim_amount  total_policy_claims fraudulent  \\\n",
       "0            No  Material only        $2980                  1.0         No   \n",
       "1       Unknown  Material only        $2980                  3.0         No   \n",
       "2            No  Material only      $3369.5                  1.0        Yes   \n",
       "3            No  Material only        $1680                  1.0         No   \n",
       "4            No  Material only        $2680                  1.0         No   \n",
       "\n",
       "      CUST_ID  gender DateOfBirth State       Contact   Segment  \n",
       "0  21868593.0  Female   12-Jan-79    VT  789-916-8172  Platinum  \n",
       "1  75740424.0  Female   13-Jan-70    ME  265-543-1264    Silver  \n",
       "2  30308357.0  Female   11-Mar-84    TN  798-631-4758    Silver  \n",
       "3  47830476.0  Female   01-May-86    MA  413-187-7945    Silver  \n",
       "4  19269962.0    Male   13-May-77    NV  956-871-8691      Gold  "
      ]
     },
     "execution_count": 119,
     "metadata": {},
     "output_type": "execute_result"
    }
   ],
   "source": [
    "combined_data = pd.merge(left= claims, right= cust_demographics, how= 'left', left_on= 'customer_id', right_on= 'CUST_ID')\n",
    "combined_data.head()"
   ]
  },
  {
   "cell_type": "code",
   "execution_count": 120,
   "id": "d7fee909",
   "metadata": {},
   "outputs": [],
   "source": [
    "combined_data = combined_data.loc[ : : , ['claim_id', 'customer_id', 'incident_cause', 'claim_date', 'claim_area',\n",
    "       'police_report', 'claim_type', 'claim_amount', 'total_policy_claims',\n",
    "       'fraudulent','gender', 'DateOfBirth', 'State', 'Contact',\n",
    "       'Segment']]"
   ]
  },
  {
   "cell_type": "code",
   "execution_count": 121,
   "id": "adf0842c",
   "metadata": {},
   "outputs": [
    {
     "data": {
      "text/html": [
       "<div>\n",
       "<style scoped>\n",
       "    .dataframe tbody tr th:only-of-type {\n",
       "        vertical-align: middle;\n",
       "    }\n",
       "\n",
       "    .dataframe tbody tr th {\n",
       "        vertical-align: top;\n",
       "    }\n",
       "\n",
       "    .dataframe thead th {\n",
       "        text-align: right;\n",
       "    }\n",
       "</style>\n",
       "<table border=\"1\" class=\"dataframe\">\n",
       "  <thead>\n",
       "    <tr style=\"text-align: right;\">\n",
       "      <th></th>\n",
       "      <th>claim_id</th>\n",
       "      <th>customer_id</th>\n",
       "      <th>incident_cause</th>\n",
       "      <th>claim_date</th>\n",
       "      <th>claim_area</th>\n",
       "      <th>police_report</th>\n",
       "      <th>claim_type</th>\n",
       "      <th>claim_amount</th>\n",
       "      <th>total_policy_claims</th>\n",
       "      <th>fraudulent</th>\n",
       "      <th>gender</th>\n",
       "      <th>DateOfBirth</th>\n",
       "      <th>State</th>\n",
       "      <th>Contact</th>\n",
       "      <th>Segment</th>\n",
       "    </tr>\n",
       "  </thead>\n",
       "  <tbody>\n",
       "    <tr>\n",
       "      <th>0</th>\n",
       "      <td>54004764</td>\n",
       "      <td>21868593</td>\n",
       "      <td>Driver error</td>\n",
       "      <td>11/27/2017</td>\n",
       "      <td>Auto</td>\n",
       "      <td>No</td>\n",
       "      <td>Material only</td>\n",
       "      <td>$2980</td>\n",
       "      <td>1.0</td>\n",
       "      <td>No</td>\n",
       "      <td>Female</td>\n",
       "      <td>12-Jan-79</td>\n",
       "      <td>VT</td>\n",
       "      <td>789-916-8172</td>\n",
       "      <td>Platinum</td>\n",
       "    </tr>\n",
       "    <tr>\n",
       "      <th>1</th>\n",
       "      <td>33985796</td>\n",
       "      <td>75740424</td>\n",
       "      <td>Crime</td>\n",
       "      <td>10/03/2018</td>\n",
       "      <td>Home</td>\n",
       "      <td>Unknown</td>\n",
       "      <td>Material only</td>\n",
       "      <td>$2980</td>\n",
       "      <td>3.0</td>\n",
       "      <td>No</td>\n",
       "      <td>Female</td>\n",
       "      <td>13-Jan-70</td>\n",
       "      <td>ME</td>\n",
       "      <td>265-543-1264</td>\n",
       "      <td>Silver</td>\n",
       "    </tr>\n",
       "    <tr>\n",
       "      <th>2</th>\n",
       "      <td>53522022</td>\n",
       "      <td>30308357</td>\n",
       "      <td>Other driver error</td>\n",
       "      <td>02/02/2018</td>\n",
       "      <td>Auto</td>\n",
       "      <td>No</td>\n",
       "      <td>Material only</td>\n",
       "      <td>$3369.5</td>\n",
       "      <td>1.0</td>\n",
       "      <td>Yes</td>\n",
       "      <td>Female</td>\n",
       "      <td>11-Mar-84</td>\n",
       "      <td>TN</td>\n",
       "      <td>798-631-4758</td>\n",
       "      <td>Silver</td>\n",
       "    </tr>\n",
       "    <tr>\n",
       "      <th>3</th>\n",
       "      <td>13015401</td>\n",
       "      <td>47830476</td>\n",
       "      <td>Natural causes</td>\n",
       "      <td>06/17/2018</td>\n",
       "      <td>Auto</td>\n",
       "      <td>No</td>\n",
       "      <td>Material only</td>\n",
       "      <td>$1680</td>\n",
       "      <td>1.0</td>\n",
       "      <td>No</td>\n",
       "      <td>Female</td>\n",
       "      <td>01-May-86</td>\n",
       "      <td>MA</td>\n",
       "      <td>413-187-7945</td>\n",
       "      <td>Silver</td>\n",
       "    </tr>\n",
       "    <tr>\n",
       "      <th>4</th>\n",
       "      <td>22890252</td>\n",
       "      <td>19269962</td>\n",
       "      <td>Crime</td>\n",
       "      <td>01/13/2018</td>\n",
       "      <td>Auto</td>\n",
       "      <td>No</td>\n",
       "      <td>Material only</td>\n",
       "      <td>$2680</td>\n",
       "      <td>1.0</td>\n",
       "      <td>No</td>\n",
       "      <td>Male</td>\n",
       "      <td>13-May-77</td>\n",
       "      <td>NV</td>\n",
       "      <td>956-871-8691</td>\n",
       "      <td>Gold</td>\n",
       "    </tr>\n",
       "  </tbody>\n",
       "</table>\n",
       "</div>"
      ],
      "text/plain": [
       "   claim_id  customer_id      incident_cause  claim_date claim_area  \\\n",
       "0  54004764     21868593        Driver error  11/27/2017       Auto   \n",
       "1  33985796     75740424               Crime  10/03/2018       Home   \n",
       "2  53522022     30308357  Other driver error  02/02/2018       Auto   \n",
       "3  13015401     47830476      Natural causes  06/17/2018       Auto   \n",
       "4  22890252     19269962               Crime  01/13/2018       Auto   \n",
       "\n",
       "  police_report     claim_type claim_amount  total_policy_claims fraudulent  \\\n",
       "0            No  Material only        $2980                  1.0         No   \n",
       "1       Unknown  Material only        $2980                  3.0         No   \n",
       "2            No  Material only      $3369.5                  1.0        Yes   \n",
       "3            No  Material only        $1680                  1.0         No   \n",
       "4            No  Material only        $2680                  1.0         No   \n",
       "\n",
       "   gender DateOfBirth State       Contact   Segment  \n",
       "0  Female   12-Jan-79    VT  789-916-8172  Platinum  \n",
       "1  Female   13-Jan-70    ME  265-543-1264    Silver  \n",
       "2  Female   11-Mar-84    TN  798-631-4758    Silver  \n",
       "3  Female   01-May-86    MA  413-187-7945    Silver  \n",
       "4    Male   13-May-77    NV  956-871-8691      Gold  "
      ]
     },
     "execution_count": 121,
     "metadata": {},
     "output_type": "execute_result"
    }
   ],
   "source": [
    "combined_data.head()"
   ]
  },
  {
   "cell_type": "markdown",
   "id": "898b86f8",
   "metadata": {},
   "source": [
    "### 2. Perform a data audit for the datatypes and find out if there are any mismatch within the current datatypes of the columns and their business significance."
   ]
  },
  {
   "cell_type": "code",
   "execution_count": 122,
   "id": "dd82a6dd",
   "metadata": {},
   "outputs": [
    {
     "name": "stdout",
     "output_type": "stream",
     "text": [
      "<class 'pandas.core.frame.DataFrame'>\n",
      "Int64Index: 1100 entries, 0 to 1099\n",
      "Data columns (total 15 columns):\n",
      " #   Column               Non-Null Count  Dtype  \n",
      "---  ------               --------------  -----  \n",
      " 0   claim_id             1100 non-null   int64  \n",
      " 1   customer_id          1100 non-null   int64  \n",
      " 2   incident_cause       1100 non-null   object \n",
      " 3   claim_date           1100 non-null   object \n",
      " 4   claim_area           1100 non-null   object \n",
      " 5   police_report        1100 non-null   object \n",
      " 6   claim_type           1100 non-null   object \n",
      " 7   claim_amount         1035 non-null   object \n",
      " 8   total_policy_claims  1090 non-null   float64\n",
      " 9   fraudulent           1100 non-null   object \n",
      " 10  gender               1085 non-null   object \n",
      " 11  DateOfBirth          1085 non-null   object \n",
      " 12  State                1085 non-null   object \n",
      " 13  Contact              1085 non-null   object \n",
      " 14  Segment              1085 non-null   object \n",
      "dtypes: float64(1), int64(2), object(12)\n",
      "memory usage: 137.5+ KB\n"
     ]
    }
   ],
   "source": [
    "combined_data.info()"
   ]
  },
  {
   "cell_type": "markdown",
   "id": "ba4aa348",
   "metadata": {},
   "source": [
    "### Following columns needs to have change in their datatypes:\n",
    "\n",
    "             Columns                           Current data_type                    Converted data_type\n",
    "    \n",
    "    1. claim_date & DateofBirth                    object                               date & time\n",
    "    \n",
    "    2. claim amount                                object                                float\n",
    "    \n",
    "    3. claim_id & customer_id                      int 64                                object\n",
    "    \n",
    "    Note : claim_id & cutomer_id columns may or may not required data type conversion from int 64 to object."
   ]
  },
  {
   "cell_type": "code",
   "execution_count": 123,
   "id": "e6c4a72f",
   "metadata": {},
   "outputs": [],
   "source": [
    "# Convert claim_date & DateofBirth to datetime data type"
   ]
  },
  {
   "cell_type": "code",
   "execution_count": 124,
   "id": "0c8a786a",
   "metadata": {},
   "outputs": [],
   "source": [
    "combined_data['claim_date'] = pd.to_datetime(combined_data.claim_date, format= '%m/%d/%Y')"
   ]
  },
  {
   "cell_type": "code",
   "execution_count": 125,
   "id": "4942f832",
   "metadata": {},
   "outputs": [],
   "source": [
    "combined_data['DateOfBirth'] = pd.to_datetime(combined_data.DateOfBirth, format= '%d-%b-%y')"
   ]
  },
  {
   "cell_type": "markdown",
   "id": "7e00d2af",
   "metadata": {},
   "source": [
    "### 3. Convert the column claim_amount to numeric. Use the appropriate modules/attributes to remove the $ sign."
   ]
  },
  {
   "cell_type": "code",
   "execution_count": 126,
   "id": "d15f5c87",
   "metadata": {},
   "outputs": [
    {
     "name": "stderr",
     "output_type": "stream",
     "text": [
      "C:\\Users\\SHUBHAM SHARMA\\AppData\\Local\\Temp\\ipykernel_6972\\375271875.py:1: FutureWarning: The default value of regex will change from True to False in a future version. In addition, single character regular expressions will *not* be treated as literal strings when regex=True.\n",
      "  combined_data['claim_amount'] = combined_data['claim_amount'].str.replace('$', '').astype(float)\n"
     ]
    }
   ],
   "source": [
    "combined_data['claim_amount'] = combined_data['claim_amount'].str.replace('$', '').astype(float)"
   ]
  },
  {
   "cell_type": "code",
   "execution_count": 127,
   "id": "b0cb8ec0",
   "metadata": {},
   "outputs": [
    {
     "data": {
      "text/html": [
       "<div>\n",
       "<style scoped>\n",
       "    .dataframe tbody tr th:only-of-type {\n",
       "        vertical-align: middle;\n",
       "    }\n",
       "\n",
       "    .dataframe tbody tr th {\n",
       "        vertical-align: top;\n",
       "    }\n",
       "\n",
       "    .dataframe thead th {\n",
       "        text-align: right;\n",
       "    }\n",
       "</style>\n",
       "<table border=\"1\" class=\"dataframe\">\n",
       "  <thead>\n",
       "    <tr style=\"text-align: right;\">\n",
       "      <th></th>\n",
       "      <th>claim_id</th>\n",
       "      <th>customer_id</th>\n",
       "      <th>incident_cause</th>\n",
       "      <th>claim_date</th>\n",
       "      <th>claim_area</th>\n",
       "      <th>police_report</th>\n",
       "      <th>claim_type</th>\n",
       "      <th>claim_amount</th>\n",
       "      <th>total_policy_claims</th>\n",
       "      <th>fraudulent</th>\n",
       "      <th>gender</th>\n",
       "      <th>DateOfBirth</th>\n",
       "      <th>State</th>\n",
       "      <th>Contact</th>\n",
       "      <th>Segment</th>\n",
       "    </tr>\n",
       "  </thead>\n",
       "  <tbody>\n",
       "    <tr>\n",
       "      <th>0</th>\n",
       "      <td>54004764</td>\n",
       "      <td>21868593</td>\n",
       "      <td>Driver error</td>\n",
       "      <td>2017-11-27</td>\n",
       "      <td>Auto</td>\n",
       "      <td>No</td>\n",
       "      <td>Material only</td>\n",
       "      <td>2980.0</td>\n",
       "      <td>1.0</td>\n",
       "      <td>No</td>\n",
       "      <td>Female</td>\n",
       "      <td>1979-01-12</td>\n",
       "      <td>VT</td>\n",
       "      <td>789-916-8172</td>\n",
       "      <td>Platinum</td>\n",
       "    </tr>\n",
       "    <tr>\n",
       "      <th>1</th>\n",
       "      <td>33985796</td>\n",
       "      <td>75740424</td>\n",
       "      <td>Crime</td>\n",
       "      <td>2018-10-03</td>\n",
       "      <td>Home</td>\n",
       "      <td>Unknown</td>\n",
       "      <td>Material only</td>\n",
       "      <td>2980.0</td>\n",
       "      <td>3.0</td>\n",
       "      <td>No</td>\n",
       "      <td>Female</td>\n",
       "      <td>1970-01-13</td>\n",
       "      <td>ME</td>\n",
       "      <td>265-543-1264</td>\n",
       "      <td>Silver</td>\n",
       "    </tr>\n",
       "    <tr>\n",
       "      <th>2</th>\n",
       "      <td>53522022</td>\n",
       "      <td>30308357</td>\n",
       "      <td>Other driver error</td>\n",
       "      <td>2018-02-02</td>\n",
       "      <td>Auto</td>\n",
       "      <td>No</td>\n",
       "      <td>Material only</td>\n",
       "      <td>3369.5</td>\n",
       "      <td>1.0</td>\n",
       "      <td>Yes</td>\n",
       "      <td>Female</td>\n",
       "      <td>1984-03-11</td>\n",
       "      <td>TN</td>\n",
       "      <td>798-631-4758</td>\n",
       "      <td>Silver</td>\n",
       "    </tr>\n",
       "    <tr>\n",
       "      <th>3</th>\n",
       "      <td>13015401</td>\n",
       "      <td>47830476</td>\n",
       "      <td>Natural causes</td>\n",
       "      <td>2018-06-17</td>\n",
       "      <td>Auto</td>\n",
       "      <td>No</td>\n",
       "      <td>Material only</td>\n",
       "      <td>1680.0</td>\n",
       "      <td>1.0</td>\n",
       "      <td>No</td>\n",
       "      <td>Female</td>\n",
       "      <td>1986-05-01</td>\n",
       "      <td>MA</td>\n",
       "      <td>413-187-7945</td>\n",
       "      <td>Silver</td>\n",
       "    </tr>\n",
       "    <tr>\n",
       "      <th>4</th>\n",
       "      <td>22890252</td>\n",
       "      <td>19269962</td>\n",
       "      <td>Crime</td>\n",
       "      <td>2018-01-13</td>\n",
       "      <td>Auto</td>\n",
       "      <td>No</td>\n",
       "      <td>Material only</td>\n",
       "      <td>2680.0</td>\n",
       "      <td>1.0</td>\n",
       "      <td>No</td>\n",
       "      <td>Male</td>\n",
       "      <td>1977-05-13</td>\n",
       "      <td>NV</td>\n",
       "      <td>956-871-8691</td>\n",
       "      <td>Gold</td>\n",
       "    </tr>\n",
       "  </tbody>\n",
       "</table>\n",
       "</div>"
      ],
      "text/plain": [
       "   claim_id  customer_id      incident_cause claim_date claim_area  \\\n",
       "0  54004764     21868593        Driver error 2017-11-27       Auto   \n",
       "1  33985796     75740424               Crime 2018-10-03       Home   \n",
       "2  53522022     30308357  Other driver error 2018-02-02       Auto   \n",
       "3  13015401     47830476      Natural causes 2018-06-17       Auto   \n",
       "4  22890252     19269962               Crime 2018-01-13       Auto   \n",
       "\n",
       "  police_report     claim_type  claim_amount  total_policy_claims fraudulent  \\\n",
       "0            No  Material only        2980.0                  1.0         No   \n",
       "1       Unknown  Material only        2980.0                  3.0         No   \n",
       "2            No  Material only        3369.5                  1.0        Yes   \n",
       "3            No  Material only        1680.0                  1.0         No   \n",
       "4            No  Material only        2680.0                  1.0         No   \n",
       "\n",
       "   gender DateOfBirth State       Contact   Segment  \n",
       "0  Female  1979-01-12    VT  789-916-8172  Platinum  \n",
       "1  Female  1970-01-13    ME  265-543-1264    Silver  \n",
       "2  Female  1984-03-11    TN  798-631-4758    Silver  \n",
       "3  Female  1986-05-01    MA  413-187-7945    Silver  \n",
       "4    Male  1977-05-13    NV  956-871-8691      Gold  "
      ]
     },
     "execution_count": 127,
     "metadata": {},
     "output_type": "execute_result"
    }
   ],
   "source": [
    "combined_data.head()"
   ]
  },
  {
   "cell_type": "code",
   "execution_count": 128,
   "id": "37ac1569",
   "metadata": {},
   "outputs": [
    {
     "name": "stdout",
     "output_type": "stream",
     "text": [
      "<class 'pandas.core.frame.DataFrame'>\n",
      "Int64Index: 1100 entries, 0 to 1099\n",
      "Data columns (total 15 columns):\n",
      " #   Column               Non-Null Count  Dtype         \n",
      "---  ------               --------------  -----         \n",
      " 0   claim_id             1100 non-null   int64         \n",
      " 1   customer_id          1100 non-null   int64         \n",
      " 2   incident_cause       1100 non-null   object        \n",
      " 3   claim_date           1100 non-null   datetime64[ns]\n",
      " 4   claim_area           1100 non-null   object        \n",
      " 5   police_report        1100 non-null   object        \n",
      " 6   claim_type           1100 non-null   object        \n",
      " 7   claim_amount         1035 non-null   float64       \n",
      " 8   total_policy_claims  1090 non-null   float64       \n",
      " 9   fraudulent           1100 non-null   object        \n",
      " 10  gender               1085 non-null   object        \n",
      " 11  DateOfBirth          1085 non-null   datetime64[ns]\n",
      " 12  State                1085 non-null   object        \n",
      " 13  Contact              1085 non-null   object        \n",
      " 14  Segment              1085 non-null   object        \n",
      "dtypes: datetime64[ns](2), float64(2), int64(2), object(9)\n",
      "memory usage: 137.5+ KB\n"
     ]
    }
   ],
   "source": [
    "combined_data.info()"
   ]
  },
  {
   "cell_type": "markdown",
   "id": "855f4f81",
   "metadata": {},
   "source": [
    "### 4. Of all the injury claims, some of them have gone unreported with the police. Create an alert flag (1,0) for all such claims."
   ]
  },
  {
   "cell_type": "code",
   "execution_count": 129,
   "id": "1938f5ef",
   "metadata": {},
   "outputs": [
    {
     "data": {
      "text/html": [
       "<div>\n",
       "<style scoped>\n",
       "    .dataframe tbody tr th:only-of-type {\n",
       "        vertical-align: middle;\n",
       "    }\n",
       "\n",
       "    .dataframe tbody tr th {\n",
       "        vertical-align: top;\n",
       "    }\n",
       "\n",
       "    .dataframe thead th {\n",
       "        text-align: right;\n",
       "    }\n",
       "</style>\n",
       "<table border=\"1\" class=\"dataframe\">\n",
       "  <thead>\n",
       "    <tr style=\"text-align: right;\">\n",
       "      <th></th>\n",
       "      <th>claim_id</th>\n",
       "      <th>customer_id</th>\n",
       "      <th>incident_cause</th>\n",
       "      <th>claim_date</th>\n",
       "      <th>claim_area</th>\n",
       "      <th>police_report</th>\n",
       "      <th>claim_type</th>\n",
       "      <th>claim_amount</th>\n",
       "      <th>total_policy_claims</th>\n",
       "      <th>fraudulent</th>\n",
       "      <th>gender</th>\n",
       "      <th>DateOfBirth</th>\n",
       "      <th>State</th>\n",
       "      <th>Contact</th>\n",
       "      <th>Segment</th>\n",
       "    </tr>\n",
       "  </thead>\n",
       "  <tbody>\n",
       "    <tr>\n",
       "      <th>0</th>\n",
       "      <td>54004764</td>\n",
       "      <td>21868593</td>\n",
       "      <td>Driver error</td>\n",
       "      <td>2017-11-27</td>\n",
       "      <td>Auto</td>\n",
       "      <td>No</td>\n",
       "      <td>Material only</td>\n",
       "      <td>2980.0</td>\n",
       "      <td>1.0</td>\n",
       "      <td>No</td>\n",
       "      <td>Female</td>\n",
       "      <td>1979-01-12</td>\n",
       "      <td>VT</td>\n",
       "      <td>789-916-8172</td>\n",
       "      <td>Platinum</td>\n",
       "    </tr>\n",
       "    <tr>\n",
       "      <th>1</th>\n",
       "      <td>33985796</td>\n",
       "      <td>75740424</td>\n",
       "      <td>Crime</td>\n",
       "      <td>2018-10-03</td>\n",
       "      <td>Home</td>\n",
       "      <td>Unknown</td>\n",
       "      <td>Material only</td>\n",
       "      <td>2980.0</td>\n",
       "      <td>3.0</td>\n",
       "      <td>No</td>\n",
       "      <td>Female</td>\n",
       "      <td>1970-01-13</td>\n",
       "      <td>ME</td>\n",
       "      <td>265-543-1264</td>\n",
       "      <td>Silver</td>\n",
       "    </tr>\n",
       "    <tr>\n",
       "      <th>2</th>\n",
       "      <td>53522022</td>\n",
       "      <td>30308357</td>\n",
       "      <td>Other driver error</td>\n",
       "      <td>2018-02-02</td>\n",
       "      <td>Auto</td>\n",
       "      <td>No</td>\n",
       "      <td>Material only</td>\n",
       "      <td>3369.5</td>\n",
       "      <td>1.0</td>\n",
       "      <td>Yes</td>\n",
       "      <td>Female</td>\n",
       "      <td>1984-03-11</td>\n",
       "      <td>TN</td>\n",
       "      <td>798-631-4758</td>\n",
       "      <td>Silver</td>\n",
       "    </tr>\n",
       "  </tbody>\n",
       "</table>\n",
       "</div>"
      ],
      "text/plain": [
       "   claim_id  customer_id      incident_cause claim_date claim_area  \\\n",
       "0  54004764     21868593        Driver error 2017-11-27       Auto   \n",
       "1  33985796     75740424               Crime 2018-10-03       Home   \n",
       "2  53522022     30308357  Other driver error 2018-02-02       Auto   \n",
       "\n",
       "  police_report     claim_type  claim_amount  total_policy_claims fraudulent  \\\n",
       "0            No  Material only        2980.0                  1.0         No   \n",
       "1       Unknown  Material only        2980.0                  3.0         No   \n",
       "2            No  Material only        3369.5                  1.0        Yes   \n",
       "\n",
       "   gender DateOfBirth State       Contact   Segment  \n",
       "0  Female  1979-01-12    VT  789-916-8172  Platinum  \n",
       "1  Female  1970-01-13    ME  265-543-1264    Silver  \n",
       "2  Female  1984-03-11    TN  798-631-4758    Silver  "
      ]
     },
     "execution_count": 129,
     "metadata": {},
     "output_type": "execute_result"
    }
   ],
   "source": [
    "combined_data.head(3)"
   ]
  },
  {
   "cell_type": "code",
   "execution_count": 130,
   "id": "52919f31",
   "metadata": {},
   "outputs": [
    {
     "data": {
      "text/plain": [
       "No         630\n",
       "Unknown    300\n",
       "Yes        170\n",
       "Name: police_report, dtype: int64"
      ]
     },
     "execution_count": 130,
     "metadata": {},
     "output_type": "execute_result"
    }
   ],
   "source": [
    "combined_data.police_report.value_counts()"
   ]
  },
  {
   "cell_type": "code",
   "execution_count": 131,
   "id": "831c06f2",
   "metadata": {},
   "outputs": [],
   "source": [
    "combined_data['alert'] = np.where(combined_data.police_report == 'Yes', 1, 0)"
   ]
  },
  {
   "cell_type": "code",
   "execution_count": 132,
   "id": "2ab90eec",
   "metadata": {},
   "outputs": [
    {
     "data": {
      "text/html": [
       "<div>\n",
       "<style scoped>\n",
       "    .dataframe tbody tr th:only-of-type {\n",
       "        vertical-align: middle;\n",
       "    }\n",
       "\n",
       "    .dataframe tbody tr th {\n",
       "        vertical-align: top;\n",
       "    }\n",
       "\n",
       "    .dataframe thead th {\n",
       "        text-align: right;\n",
       "    }\n",
       "</style>\n",
       "<table border=\"1\" class=\"dataframe\">\n",
       "  <thead>\n",
       "    <tr style=\"text-align: right;\">\n",
       "      <th></th>\n",
       "      <th>claim_id</th>\n",
       "      <th>customer_id</th>\n",
       "      <th>incident_cause</th>\n",
       "      <th>claim_date</th>\n",
       "      <th>claim_area</th>\n",
       "      <th>police_report</th>\n",
       "      <th>claim_type</th>\n",
       "      <th>claim_amount</th>\n",
       "      <th>total_policy_claims</th>\n",
       "      <th>fraudulent</th>\n",
       "      <th>gender</th>\n",
       "      <th>DateOfBirth</th>\n",
       "      <th>State</th>\n",
       "      <th>Contact</th>\n",
       "      <th>Segment</th>\n",
       "      <th>alert</th>\n",
       "    </tr>\n",
       "  </thead>\n",
       "  <tbody>\n",
       "    <tr>\n",
       "      <th>0</th>\n",
       "      <td>54004764</td>\n",
       "      <td>21868593</td>\n",
       "      <td>Driver error</td>\n",
       "      <td>2017-11-27</td>\n",
       "      <td>Auto</td>\n",
       "      <td>No</td>\n",
       "      <td>Material only</td>\n",
       "      <td>2980.0</td>\n",
       "      <td>1.0</td>\n",
       "      <td>No</td>\n",
       "      <td>Female</td>\n",
       "      <td>1979-01-12</td>\n",
       "      <td>VT</td>\n",
       "      <td>789-916-8172</td>\n",
       "      <td>Platinum</td>\n",
       "      <td>0</td>\n",
       "    </tr>\n",
       "    <tr>\n",
       "      <th>1</th>\n",
       "      <td>33985796</td>\n",
       "      <td>75740424</td>\n",
       "      <td>Crime</td>\n",
       "      <td>2018-10-03</td>\n",
       "      <td>Home</td>\n",
       "      <td>Unknown</td>\n",
       "      <td>Material only</td>\n",
       "      <td>2980.0</td>\n",
       "      <td>3.0</td>\n",
       "      <td>No</td>\n",
       "      <td>Female</td>\n",
       "      <td>1970-01-13</td>\n",
       "      <td>ME</td>\n",
       "      <td>265-543-1264</td>\n",
       "      <td>Silver</td>\n",
       "      <td>0</td>\n",
       "    </tr>\n",
       "    <tr>\n",
       "      <th>2</th>\n",
       "      <td>53522022</td>\n",
       "      <td>30308357</td>\n",
       "      <td>Other driver error</td>\n",
       "      <td>2018-02-02</td>\n",
       "      <td>Auto</td>\n",
       "      <td>No</td>\n",
       "      <td>Material only</td>\n",
       "      <td>3369.5</td>\n",
       "      <td>1.0</td>\n",
       "      <td>Yes</td>\n",
       "      <td>Female</td>\n",
       "      <td>1984-03-11</td>\n",
       "      <td>TN</td>\n",
       "      <td>798-631-4758</td>\n",
       "      <td>Silver</td>\n",
       "      <td>0</td>\n",
       "    </tr>\n",
       "    <tr>\n",
       "      <th>3</th>\n",
       "      <td>13015401</td>\n",
       "      <td>47830476</td>\n",
       "      <td>Natural causes</td>\n",
       "      <td>2018-06-17</td>\n",
       "      <td>Auto</td>\n",
       "      <td>No</td>\n",
       "      <td>Material only</td>\n",
       "      <td>1680.0</td>\n",
       "      <td>1.0</td>\n",
       "      <td>No</td>\n",
       "      <td>Female</td>\n",
       "      <td>1986-05-01</td>\n",
       "      <td>MA</td>\n",
       "      <td>413-187-7945</td>\n",
       "      <td>Silver</td>\n",
       "      <td>0</td>\n",
       "    </tr>\n",
       "    <tr>\n",
       "      <th>4</th>\n",
       "      <td>22890252</td>\n",
       "      <td>19269962</td>\n",
       "      <td>Crime</td>\n",
       "      <td>2018-01-13</td>\n",
       "      <td>Auto</td>\n",
       "      <td>No</td>\n",
       "      <td>Material only</td>\n",
       "      <td>2680.0</td>\n",
       "      <td>1.0</td>\n",
       "      <td>No</td>\n",
       "      <td>Male</td>\n",
       "      <td>1977-05-13</td>\n",
       "      <td>NV</td>\n",
       "      <td>956-871-8691</td>\n",
       "      <td>Gold</td>\n",
       "      <td>0</td>\n",
       "    </tr>\n",
       "    <tr>\n",
       "      <th>...</th>\n",
       "      <td>...</td>\n",
       "      <td>...</td>\n",
       "      <td>...</td>\n",
       "      <td>...</td>\n",
       "      <td>...</td>\n",
       "      <td>...</td>\n",
       "      <td>...</td>\n",
       "      <td>...</td>\n",
       "      <td>...</td>\n",
       "      <td>...</td>\n",
       "      <td>...</td>\n",
       "      <td>...</td>\n",
       "      <td>...</td>\n",
       "      <td>...</td>\n",
       "      <td>...</td>\n",
       "      <td>...</td>\n",
       "    </tr>\n",
       "    <tr>\n",
       "      <th>1095</th>\n",
       "      <td>97727122</td>\n",
       "      <td>35951012</td>\n",
       "      <td>Other driver error</td>\n",
       "      <td>2017-06-11</td>\n",
       "      <td>Auto</td>\n",
       "      <td>No</td>\n",
       "      <td>Material only</td>\n",
       "      <td>3059.0</td>\n",
       "      <td>4.0</td>\n",
       "      <td>Yes</td>\n",
       "      <td>NaN</td>\n",
       "      <td>NaT</td>\n",
       "      <td>NaN</td>\n",
       "      <td>NaN</td>\n",
       "      <td>NaN</td>\n",
       "      <td>0</td>\n",
       "    </tr>\n",
       "    <tr>\n",
       "      <th>1096</th>\n",
       "      <td>10247193</td>\n",
       "      <td>14818669</td>\n",
       "      <td>Natural causes</td>\n",
       "      <td>2018-03-14</td>\n",
       "      <td>Auto</td>\n",
       "      <td>No</td>\n",
       "      <td>Material only</td>\n",
       "      <td>1520.0</td>\n",
       "      <td>2.0</td>\n",
       "      <td>No</td>\n",
       "      <td>NaN</td>\n",
       "      <td>NaT</td>\n",
       "      <td>NaN</td>\n",
       "      <td>NaN</td>\n",
       "      <td>NaN</td>\n",
       "      <td>0</td>\n",
       "    </tr>\n",
       "    <tr>\n",
       "      <th>1097</th>\n",
       "      <td>79807493</td>\n",
       "      <td>85322831</td>\n",
       "      <td>Other driver error</td>\n",
       "      <td>2018-02-09</td>\n",
       "      <td>Auto</td>\n",
       "      <td>No</td>\n",
       "      <td>Material and injury</td>\n",
       "      <td>23575.0</td>\n",
       "      <td>2.0</td>\n",
       "      <td>Yes</td>\n",
       "      <td>NaN</td>\n",
       "      <td>NaT</td>\n",
       "      <td>NaN</td>\n",
       "      <td>NaN</td>\n",
       "      <td>NaN</td>\n",
       "      <td>0</td>\n",
       "    </tr>\n",
       "    <tr>\n",
       "      <th>1098</th>\n",
       "      <td>69299345</td>\n",
       "      <td>73449366</td>\n",
       "      <td>Other causes</td>\n",
       "      <td>2018-03-21</td>\n",
       "      <td>Auto</td>\n",
       "      <td>Unknown</td>\n",
       "      <td>Material and injury</td>\n",
       "      <td>25120.0</td>\n",
       "      <td>1.0</td>\n",
       "      <td>No</td>\n",
       "      <td>NaN</td>\n",
       "      <td>NaT</td>\n",
       "      <td>NaN</td>\n",
       "      <td>NaN</td>\n",
       "      <td>NaN</td>\n",
       "      <td>0</td>\n",
       "    </tr>\n",
       "    <tr>\n",
       "      <th>1099</th>\n",
       "      <td>58809728</td>\n",
       "      <td>43020876</td>\n",
       "      <td>Other driver error</td>\n",
       "      <td>2017-06-04</td>\n",
       "      <td>Auto</td>\n",
       "      <td>Yes</td>\n",
       "      <td>Material and injury</td>\n",
       "      <td>36685.0</td>\n",
       "      <td>3.0</td>\n",
       "      <td>Yes</td>\n",
       "      <td>NaN</td>\n",
       "      <td>NaT</td>\n",
       "      <td>NaN</td>\n",
       "      <td>NaN</td>\n",
       "      <td>NaN</td>\n",
       "      <td>1</td>\n",
       "    </tr>\n",
       "  </tbody>\n",
       "</table>\n",
       "<p>1100 rows × 16 columns</p>\n",
       "</div>"
      ],
      "text/plain": [
       "      claim_id  customer_id      incident_cause claim_date claim_area  \\\n",
       "0     54004764     21868593        Driver error 2017-11-27       Auto   \n",
       "1     33985796     75740424               Crime 2018-10-03       Home   \n",
       "2     53522022     30308357  Other driver error 2018-02-02       Auto   \n",
       "3     13015401     47830476      Natural causes 2018-06-17       Auto   \n",
       "4     22890252     19269962               Crime 2018-01-13       Auto   \n",
       "...        ...          ...                 ...        ...        ...   \n",
       "1095  97727122     35951012  Other driver error 2017-06-11       Auto   \n",
       "1096  10247193     14818669      Natural causes 2018-03-14       Auto   \n",
       "1097  79807493     85322831  Other driver error 2018-02-09       Auto   \n",
       "1098  69299345     73449366        Other causes 2018-03-21       Auto   \n",
       "1099  58809728     43020876  Other driver error 2017-06-04       Auto   \n",
       "\n",
       "     police_report           claim_type  claim_amount  total_policy_claims  \\\n",
       "0               No        Material only        2980.0                  1.0   \n",
       "1          Unknown        Material only        2980.0                  3.0   \n",
       "2               No        Material only        3369.5                  1.0   \n",
       "3               No        Material only        1680.0                  1.0   \n",
       "4               No        Material only        2680.0                  1.0   \n",
       "...            ...                  ...           ...                  ...   \n",
       "1095            No        Material only        3059.0                  4.0   \n",
       "1096            No        Material only        1520.0                  2.0   \n",
       "1097            No  Material and injury       23575.0                  2.0   \n",
       "1098       Unknown  Material and injury       25120.0                  1.0   \n",
       "1099           Yes  Material and injury       36685.0                  3.0   \n",
       "\n",
       "     fraudulent  gender DateOfBirth State       Contact   Segment  alert  \n",
       "0            No  Female  1979-01-12    VT  789-916-8172  Platinum      0  \n",
       "1            No  Female  1970-01-13    ME  265-543-1264    Silver      0  \n",
       "2           Yes  Female  1984-03-11    TN  798-631-4758    Silver      0  \n",
       "3            No  Female  1986-05-01    MA  413-187-7945    Silver      0  \n",
       "4            No    Male  1977-05-13    NV  956-871-8691      Gold      0  \n",
       "...         ...     ...         ...   ...           ...       ...    ...  \n",
       "1095        Yes     NaN         NaT   NaN           NaN       NaN      0  \n",
       "1096         No     NaN         NaT   NaN           NaN       NaN      0  \n",
       "1097        Yes     NaN         NaT   NaN           NaN       NaN      0  \n",
       "1098         No     NaN         NaT   NaN           NaN       NaN      0  \n",
       "1099        Yes     NaN         NaT   NaN           NaN       NaN      1  \n",
       "\n",
       "[1100 rows x 16 columns]"
      ]
     },
     "execution_count": 132,
     "metadata": {},
     "output_type": "execute_result"
    }
   ],
   "source": [
    "combined_data\n",
    "\n",
    "# where police report = No & Unknown, alert sign = 0\n",
    "# where police report = Yes, alert sign = 1 "
   ]
  },
  {
   "cell_type": "markdown",
   "id": "fce9de38",
   "metadata": {},
   "source": [
    "### 5. One customer can claim for insurance more than once and in each claim, multiple categories of claims can be involved. However, customer ID should remain unique.\n",
    "### Retain the most recent observation and delete any duplicated records in the data based on the customer ID column."
   ]
  },
  {
   "cell_type": "code",
   "execution_count": 133,
   "id": "5b59f266",
   "metadata": {},
   "outputs": [],
   "source": [
    "# Sort the data based on claim_date in descending order:\n",
    "\n",
    "combined_data.sort_values('claim_date', ascending= False, inplace= True)\n",
    "\n",
    "# Drop duplicates based on customer_id column, keeping only the first occurrence:\n",
    "\n",
    "combined_data.drop_duplicates('customer_id', keep= 'first', inplace= True)\n"
   ]
  },
  {
   "cell_type": "code",
   "execution_count": 134,
   "id": "22d5032c",
   "metadata": {},
   "outputs": [
    {
     "data": {
      "text/plain": [
       "True"
      ]
     },
     "execution_count": 134,
     "metadata": {},
     "output_type": "execute_result"
    }
   ],
   "source": [
    "# checking uniqueness in customer_id column:\n",
    "\n",
    "combined_data['customer_id'].is_unique"
   ]
  },
  {
   "cell_type": "code",
   "execution_count": 135,
   "id": "b0096aef",
   "metadata": {},
   "outputs": [
    {
     "data": {
      "text/plain": [
       "93915431    1\n",
       "67722830    1\n",
       "72664684    1\n",
       "5264479     1\n",
       "81371138    1\n",
       "           ..\n",
       "86818440    1\n",
       "73898057    1\n",
       "441097      1\n",
       "68043300    1\n",
       "75934330    1\n",
       "Name: customer_id, Length: 1093, dtype: int64"
      ]
     },
     "execution_count": 135,
     "metadata": {},
     "output_type": "execute_result"
    }
   ],
   "source": [
    "combined_data.customer_id.value_counts()"
   ]
  },
  {
   "cell_type": "markdown",
   "id": "64e0da33",
   "metadata": {},
   "source": [
    "#### this shows duplicate customers are removed now we have total 1093 records previously we have 1100 records which shows we have 7 such customers"
   ]
  },
  {
   "cell_type": "code",
   "execution_count": 136,
   "id": "9930383d",
   "metadata": {},
   "outputs": [],
   "source": [
    "combined_data.reset_index(inplace= True)"
   ]
  },
  {
   "cell_type": "markdown",
   "id": "950c533f",
   "metadata": {},
   "source": [
    "### 6. Check for missing values and impute the missing values with an appropriate value. (mean for continuous and mode for categorical)"
   ]
  },
  {
   "cell_type": "code",
   "execution_count": 140,
   "id": "9a47209b",
   "metadata": {},
   "outputs": [
    {
     "data": {
      "text/plain": [
       "index                   0\n",
       "claim_id                0\n",
       "customer_id             0\n",
       "incident_cause          0\n",
       "claim_date              0\n",
       "claim_area              0\n",
       "police_report           0\n",
       "claim_type              0\n",
       "claim_amount           65\n",
       "total_policy_claims    10\n",
       "fraudulent              0\n",
       "gender                 15\n",
       "DateOfBirth            15\n",
       "State                  15\n",
       "Contact                15\n",
       "Segment                15\n",
       "alert                   0\n",
       "dtype: int64"
      ]
     },
     "execution_count": 140,
     "metadata": {},
     "output_type": "execute_result"
    }
   ],
   "source": [
    "# checking for missing values:\n",
    "\n",
    "combined_data.isnull().sum()"
   ]
  },
  {
   "cell_type": "code",
   "execution_count": 141,
   "id": "dffe5fab",
   "metadata": {},
   "outputs": [],
   "source": [
    "# Impute missing values with mean for continuous variables:\n",
    "\n",
    "continuous_vars = ['claim_amount', 'total_policy_claims']\n",
    "for var in continuous_vars:\n",
    "    mean_value = combined_data[var].mean()\n",
    "    combined_data[var].fillna(mean_value, inplace=True)\n",
    "    \n",
    "# Impute missing values with mode for categorical variables\n",
    "categorical_vars = ['gender', 'DateOfBirth', 'State', 'Contact', 'Segment']\n",
    "for var in categorical_vars:\n",
    "    mode_value = combined_data[var].mode()[0]\n",
    "    combined_data[var].fillna(mode_value, inplace=True)"
   ]
  },
  {
   "cell_type": "code",
   "execution_count": 142,
   "id": "553baf70",
   "metadata": {},
   "outputs": [
    {
     "data": {
      "text/plain": [
       "index                  0\n",
       "claim_id               0\n",
       "customer_id            0\n",
       "incident_cause         0\n",
       "claim_date             0\n",
       "claim_area             0\n",
       "police_report          0\n",
       "claim_type             0\n",
       "claim_amount           0\n",
       "total_policy_claims    0\n",
       "fraudulent             0\n",
       "gender                 0\n",
       "DateOfBirth            0\n",
       "State                  0\n",
       "Contact                0\n",
       "Segment                0\n",
       "alert                  0\n",
       "dtype: int64"
      ]
     },
     "execution_count": 142,
     "metadata": {},
     "output_type": "execute_result"
    }
   ],
   "source": [
    "# checking for missing values after imputation:\n",
    "\n",
    "combined_data.isnull().sum()\n",
    "\n",
    "# so no missing values after imputation"
   ]
  },
  {
   "cell_type": "markdown",
   "id": "80a17017",
   "metadata": {},
   "source": [
    "### 7. Calculate the age of customers in years. Based on the age, categorize the\n",
    "      customers according to the below criteria\n",
    "      Children < 18\n",
    "      Youth 18-30\n",
    "      Adult 30-60\n",
    "      Senior > 60"
   ]
  },
  {
   "cell_type": "code",
   "execution_count": 153,
   "id": "455d5b1f",
   "metadata": {},
   "outputs": [
    {
     "data": {
      "text/plain": [
       "1969    48\n",
       "1993    34\n",
       "1994    33\n",
       "1980    33\n",
       "1982    33\n",
       "2067    32\n",
       "1997    32\n",
       "1984    31\n",
       "1999    30\n",
       "2060    30\n",
       "2066    30\n",
       "1971    30\n",
       "2064    30\n",
       "1988    29\n",
       "1989    29\n",
       "1987    28\n",
       "1995    28\n",
       "1976    28\n",
       "2063    27\n",
       "1996    27\n",
       "2065    27\n",
       "1970    27\n",
       "1973    26\n",
       "1985    26\n",
       "2062    26\n",
       "1975    26\n",
       "1979    25\n",
       "1977    25\n",
       "2068    24\n",
       "1998    24\n",
       "1986    24\n",
       "1978    23\n",
       "1992    23\n",
       "1991    23\n",
       "1990    23\n",
       "1974    23\n",
       "1981    22\n",
       "2061    19\n",
       "1983    18\n",
       "1972    17\n",
       "Name: DateOfBirth, dtype: int64"
      ]
     },
     "execution_count": 153,
     "metadata": {},
     "output_type": "execute_result"
    }
   ],
   "source": [
    "combined_data.DateOfBirth.dt.year.value_counts()\n",
    "\n",
    "# clearly till year 1969 is fine but for year less then 1969 we have to subtract 100 years to get correct year values "
   ]
  },
  {
   "cell_type": "code",
   "execution_count": 158,
   "id": "2157b51d",
   "metadata": {},
   "outputs": [],
   "source": [
    "\n",
    "combined_data.loc[combined_data['DateOfBirth'].dt.year % 100 < 69, 'DateOfBirth'] = combined_data.loc[combined_data\n",
    "                            ['DateOfBirth'].dt.year % 100 < 69 , 'DateOfBirth'].apply(lambda x: x.replace(year=x.year - 100))\n"
   ]
  },
  {
   "cell_type": "code",
   "execution_count": 159,
   "id": "f44437c4",
   "metadata": {},
   "outputs": [
    {
     "data": {
      "text/plain": [
       "1969    48\n",
       "1993    34\n",
       "1994    33\n",
       "1980    33\n",
       "1982    33\n",
       "1967    32\n",
       "1997    32\n",
       "1984    31\n",
       "1999    30\n",
       "1960    30\n",
       "1966    30\n",
       "1971    30\n",
       "1964    30\n",
       "1988    29\n",
       "1989    29\n",
       "1987    28\n",
       "1995    28\n",
       "1976    28\n",
       "1963    27\n",
       "1996    27\n",
       "1965    27\n",
       "1970    27\n",
       "1973    26\n",
       "1985    26\n",
       "1962    26\n",
       "1975    26\n",
       "1979    25\n",
       "1977    25\n",
       "1968    24\n",
       "1998    24\n",
       "1986    24\n",
       "1978    23\n",
       "1992    23\n",
       "1991    23\n",
       "1990    23\n",
       "1974    23\n",
       "1981    22\n",
       "1961    19\n",
       "1983    18\n",
       "1972    17\n",
       "Name: DateOfBirth, dtype: int64"
      ]
     },
     "execution_count": 159,
     "metadata": {},
     "output_type": "execute_result"
    }
   ],
   "source": [
    "combined_data.DateOfBirth.dt.year.value_counts()\n",
    "\n",
    "# now date of birth data is ready to go to calculate age of customers "
   ]
  },
  {
   "cell_type": "code",
   "execution_count": 165,
   "id": "36399088",
   "metadata": {},
   "outputs": [],
   "source": [
    "# age of customers in years:\n",
    "\n",
    "combined_data['Cust_age'] = pd.Timestamp.now().year - combined_data.DateOfBirth.dt.year"
   ]
  },
  {
   "cell_type": "code",
   "execution_count": 178,
   "id": "d0a260c0",
   "metadata": {},
   "outputs": [
    {
     "name": "stdout",
     "output_type": "stream",
     "text": [
      "min_age =  24\n",
      "max_age =  63\n"
     ]
    }
   ],
   "source": [
    "print('min_age = ', combined_data.Cust_age.min())\n",
    "print('max_age = ', combined_data.Cust_age.max())\n",
    "\n",
    "# we have age of customers in between 24 to 63."
   ]
  },
  {
   "cell_type": "code",
   "execution_count": 175,
   "id": "f5ab1391",
   "metadata": {},
   "outputs": [],
   "source": [
    "# categorize the age :\n",
    "\n",
    "combined_data['age_category'] = pd.cut(combined_data.Cust_age, (0,18,30,60,70), labels= ['Children','Youth','Adult','Senior'])\n",
    "\n",
    "# maximum age is 63 so for final group we can select any value greater than 63."
   ]
  },
  {
   "cell_type": "code",
   "execution_count": 179,
   "id": "8c29d6fa",
   "metadata": {},
   "outputs": [
    {
     "data": {
      "text/plain": [
       "Adult       810\n",
       "Youth       208\n",
       "Senior       75\n",
       "Children      0\n",
       "Name: age_category, dtype: int64"
      ]
     },
     "execution_count": 179,
     "metadata": {},
     "output_type": "execute_result"
    }
   ],
   "source": [
    "combined_data.age_category.value_counts()"
   ]
  },
  {
   "cell_type": "markdown",
   "id": "0fb154ce",
   "metadata": {},
   "source": [
    "### 8. What is the average amount claimed by the customers from various segments?"
   ]
  },
  {
   "cell_type": "code",
   "execution_count": 186,
   "id": "ef1e7a22",
   "metadata": {},
   "outputs": [
    {
     "data": {
      "text/html": [
       "<div>\n",
       "<style scoped>\n",
       "    .dataframe tbody tr th:only-of-type {\n",
       "        vertical-align: middle;\n",
       "    }\n",
       "\n",
       "    .dataframe tbody tr th {\n",
       "        vertical-align: top;\n",
       "    }\n",
       "\n",
       "    .dataframe thead th {\n",
       "        text-align: right;\n",
       "    }\n",
       "</style>\n",
       "<table border=\"1\" class=\"dataframe\">\n",
       "  <thead>\n",
       "    <tr style=\"text-align: right;\">\n",
       "      <th></th>\n",
       "      <th>claim_amount</th>\n",
       "    </tr>\n",
       "    <tr>\n",
       "      <th>Segment</th>\n",
       "      <th></th>\n",
       "    </tr>\n",
       "  </thead>\n",
       "  <tbody>\n",
       "    <tr>\n",
       "      <th>Gold</th>\n",
       "      <td>12761.663185</td>\n",
       "    </tr>\n",
       "    <tr>\n",
       "      <th>Platinum</th>\n",
       "      <td>12370.565077</td>\n",
       "    </tr>\n",
       "    <tr>\n",
       "      <th>Silver</th>\n",
       "      <td>12265.736955</td>\n",
       "    </tr>\n",
       "  </tbody>\n",
       "</table>\n",
       "</div>"
      ],
      "text/plain": [
       "          claim_amount\n",
       "Segment               \n",
       "Gold      12761.663185\n",
       "Platinum  12370.565077\n",
       "Silver    12265.736955"
      ]
     },
     "execution_count": 186,
     "metadata": {},
     "output_type": "execute_result"
    }
   ],
   "source": [
    "pd.DataFrame(combined_data.groupby('Segment').claim_amount.mean())"
   ]
  },
  {
   "cell_type": "markdown",
   "id": "fa0737df",
   "metadata": {},
   "source": [
    "### 9. What is the total claim amount based on incident cause for all the claims that have been done at least 20 days prior to 1st of October, 2018."
   ]
  },
  {
   "cell_type": "code",
   "execution_count": 190,
   "id": "ab2c67b3",
   "metadata": {},
   "outputs": [],
   "source": [
    "# Filter the data for claims done at least 20 days prior to October 1, 2018:\n",
    "\n",
    "filtered_data = combined_data[combined_data.claim_date <= pd.to_datetime('2018-09-11')]"
   ]
  },
  {
   "cell_type": "code",
   "execution_count": 193,
   "id": "977abffd",
   "metadata": {},
   "outputs": [
    {
     "data": {
      "text/html": [
       "<div>\n",
       "<style scoped>\n",
       "    .dataframe tbody tr th:only-of-type {\n",
       "        vertical-align: middle;\n",
       "    }\n",
       "\n",
       "    .dataframe tbody tr th {\n",
       "        vertical-align: top;\n",
       "    }\n",
       "\n",
       "    .dataframe thead th {\n",
       "        text-align: right;\n",
       "    }\n",
       "</style>\n",
       "<table border=\"1\" class=\"dataframe\">\n",
       "  <thead>\n",
       "    <tr style=\"text-align: right;\">\n",
       "      <th></th>\n",
       "      <th>claim_amount</th>\n",
       "    </tr>\n",
       "    <tr>\n",
       "      <th>incident_cause</th>\n",
       "      <th></th>\n",
       "    </tr>\n",
       "  </thead>\n",
       "  <tbody>\n",
       "    <tr>\n",
       "      <th>Crime</th>\n",
       "      <td>7.269595e+05</td>\n",
       "    </tr>\n",
       "    <tr>\n",
       "      <th>Driver error</th>\n",
       "      <td>3.344546e+06</td>\n",
       "    </tr>\n",
       "    <tr>\n",
       "      <th>Natural causes</th>\n",
       "      <td>1.315301e+06</td>\n",
       "    </tr>\n",
       "    <tr>\n",
       "      <th>Other causes</th>\n",
       "      <td>3.778023e+06</td>\n",
       "    </tr>\n",
       "    <tr>\n",
       "      <th>Other driver error</th>\n",
       "      <td>3.342803e+06</td>\n",
       "    </tr>\n",
       "  </tbody>\n",
       "</table>\n",
       "</div>"
      ],
      "text/plain": [
       "                    claim_amount\n",
       "incident_cause                  \n",
       "Crime               7.269595e+05\n",
       "Driver error        3.344546e+06\n",
       "Natural causes      1.315301e+06\n",
       "Other causes        3.778023e+06\n",
       "Other driver error  3.342803e+06"
      ]
     },
     "execution_count": 193,
     "metadata": {},
     "output_type": "execute_result"
    }
   ],
   "source": [
    "pd.DataFrame(filtered_data.groupby('incident_cause').claim_amount.sum())"
   ]
  },
  {
   "cell_type": "markdown",
   "id": "c12da9b4",
   "metadata": {},
   "source": [
    "### 10. How many adults from TX, DE and AK claimed insurance for driver related issues and causes?"
   ]
  },
  {
   "cell_type": "code",
   "execution_count": 234,
   "id": "d4e39b7f",
   "metadata": {},
   "outputs": [
    {
     "data": {
      "text/html": [
       "<div>\n",
       "<style scoped>\n",
       "    .dataframe tbody tr th:only-of-type {\n",
       "        vertical-align: middle;\n",
       "    }\n",
       "\n",
       "    .dataframe tbody tr th {\n",
       "        vertical-align: top;\n",
       "    }\n",
       "\n",
       "    .dataframe thead th {\n",
       "        text-align: right;\n",
       "    }\n",
       "</style>\n",
       "<table border=\"1\" class=\"dataframe\">\n",
       "  <thead>\n",
       "    <tr style=\"text-align: right;\">\n",
       "      <th></th>\n",
       "      <th>index</th>\n",
       "      <th>claim_id</th>\n",
       "      <th>customer_id</th>\n",
       "      <th>incident_cause</th>\n",
       "      <th>claim_date</th>\n",
       "      <th>claim_area</th>\n",
       "      <th>police_report</th>\n",
       "      <th>claim_type</th>\n",
       "      <th>claim_amount</th>\n",
       "      <th>total_policy_claims</th>\n",
       "      <th>fraudulent</th>\n",
       "      <th>gender</th>\n",
       "      <th>DateOfBirth</th>\n",
       "      <th>State</th>\n",
       "      <th>Contact</th>\n",
       "      <th>Segment</th>\n",
       "      <th>alert</th>\n",
       "      <th>Cust_age</th>\n",
       "      <th>age_category</th>\n",
       "    </tr>\n",
       "  </thead>\n",
       "  <tbody>\n",
       "    <tr>\n",
       "      <th>5</th>\n",
       "      <td>318</td>\n",
       "      <td>87329176</td>\n",
       "      <td>77510822</td>\n",
       "      <td>Other driver error</td>\n",
       "      <td>2018-10-30</td>\n",
       "      <td>Auto</td>\n",
       "      <td>Unknown</td>\n",
       "      <td>Material only</td>\n",
       "      <td>12475.499514</td>\n",
       "      <td>2.0</td>\n",
       "      <td>No</td>\n",
       "      <td>Female</td>\n",
       "      <td>1986-03-18</td>\n",
       "      <td>AK</td>\n",
       "      <td>436-934-7156</td>\n",
       "      <td>Silver</td>\n",
       "      <td>0</td>\n",
       "      <td>37</td>\n",
       "      <td>Adult</td>\n",
       "    </tr>\n",
       "    <tr>\n",
       "      <th>67</th>\n",
       "      <td>372</td>\n",
       "      <td>92399694</td>\n",
       "      <td>92971195</td>\n",
       "      <td>Other driver error</td>\n",
       "      <td>2018-09-26</td>\n",
       "      <td>Home</td>\n",
       "      <td>No</td>\n",
       "      <td>Material only</td>\n",
       "      <td>1140.000000</td>\n",
       "      <td>1.0</td>\n",
       "      <td>No</td>\n",
       "      <td>Male</td>\n",
       "      <td>1975-02-02</td>\n",
       "      <td>DE</td>\n",
       "      <td>892-173-4657</td>\n",
       "      <td>Gold</td>\n",
       "      <td>0</td>\n",
       "      <td>48</td>\n",
       "      <td>Adult</td>\n",
       "    </tr>\n",
       "    <tr>\n",
       "      <th>75</th>\n",
       "      <td>114</td>\n",
       "      <td>65335959</td>\n",
       "      <td>61810954</td>\n",
       "      <td>Other driver error</td>\n",
       "      <td>2018-09-19</td>\n",
       "      <td>Auto</td>\n",
       "      <td>Unknown</td>\n",
       "      <td>Material and injury</td>\n",
       "      <td>36620.000000</td>\n",
       "      <td>1.0</td>\n",
       "      <td>No</td>\n",
       "      <td>Male</td>\n",
       "      <td>1969-05-18</td>\n",
       "      <td>TX</td>\n",
       "      <td>724-493-6179</td>\n",
       "      <td>Silver</td>\n",
       "      <td>0</td>\n",
       "      <td>54</td>\n",
       "      <td>Adult</td>\n",
       "    </tr>\n",
       "    <tr>\n",
       "      <th>114</th>\n",
       "      <td>183</td>\n",
       "      <td>21550521</td>\n",
       "      <td>68772500</td>\n",
       "      <td>Driver error</td>\n",
       "      <td>2018-08-30</td>\n",
       "      <td>Auto</td>\n",
       "      <td>Unknown</td>\n",
       "      <td>Material only</td>\n",
       "      <td>2320.000000</td>\n",
       "      <td>1.0</td>\n",
       "      <td>No</td>\n",
       "      <td>Male</td>\n",
       "      <td>1989-11-10</td>\n",
       "      <td>TX</td>\n",
       "      <td>562-259-5432</td>\n",
       "      <td>Silver</td>\n",
       "      <td>0</td>\n",
       "      <td>34</td>\n",
       "      <td>Adult</td>\n",
       "    </tr>\n",
       "    <tr>\n",
       "      <th>169</th>\n",
       "      <td>242</td>\n",
       "      <td>7238381</td>\n",
       "      <td>684748</td>\n",
       "      <td>Other driver error</td>\n",
       "      <td>2018-07-14</td>\n",
       "      <td>Auto</td>\n",
       "      <td>No</td>\n",
       "      <td>Material only</td>\n",
       "      <td>2920.000000</td>\n",
       "      <td>2.0</td>\n",
       "      <td>No</td>\n",
       "      <td>Male</td>\n",
       "      <td>1977-08-03</td>\n",
       "      <td>AK</td>\n",
       "      <td>613-385-2863</td>\n",
       "      <td>Gold</td>\n",
       "      <td>0</td>\n",
       "      <td>46</td>\n",
       "      <td>Adult</td>\n",
       "    </tr>\n",
       "  </tbody>\n",
       "</table>\n",
       "</div>"
      ],
      "text/plain": [
       "     index  claim_id  customer_id      incident_cause claim_date claim_area  \\\n",
       "5      318  87329176     77510822  Other driver error 2018-10-30       Auto   \n",
       "67     372  92399694     92971195  Other driver error 2018-09-26       Home   \n",
       "75     114  65335959     61810954  Other driver error 2018-09-19       Auto   \n",
       "114    183  21550521     68772500        Driver error 2018-08-30       Auto   \n",
       "169    242   7238381       684748  Other driver error 2018-07-14       Auto   \n",
       "\n",
       "    police_report           claim_type  claim_amount  total_policy_claims  \\\n",
       "5         Unknown        Material only  12475.499514                  2.0   \n",
       "67             No        Material only   1140.000000                  1.0   \n",
       "75        Unknown  Material and injury  36620.000000                  1.0   \n",
       "114       Unknown        Material only   2320.000000                  1.0   \n",
       "169            No        Material only   2920.000000                  2.0   \n",
       "\n",
       "    fraudulent  gender DateOfBirth State       Contact Segment  alert  \\\n",
       "5           No  Female  1986-03-18    AK  436-934-7156  Silver      0   \n",
       "67          No    Male  1975-02-02    DE  892-173-4657    Gold      0   \n",
       "75          No    Male  1969-05-18    TX  724-493-6179  Silver      0   \n",
       "114         No    Male  1989-11-10    TX  562-259-5432  Silver      0   \n",
       "169         No    Male  1977-08-03    AK  613-385-2863    Gold      0   \n",
       "\n",
       "     Cust_age age_category  \n",
       "5          37        Adult  \n",
       "67         48        Adult  \n",
       "75         54        Adult  \n",
       "114        34        Adult  \n",
       "169        46        Adult  "
      ]
     },
     "execution_count": 234,
     "metadata": {},
     "output_type": "execute_result"
    }
   ],
   "source": [
    "summ1 = combined_data[(combined_data.age_category == 'Adult') & (combined_data['incident_cause'].isin\n",
    "                                  (['Driver error','Other driver error'])) & (combined_data['State'].isin(['TX', 'DE', 'AK']))]\n",
    "summ1.head()"
   ]
  },
  {
   "cell_type": "code",
   "execution_count": 235,
   "id": "2a351522",
   "metadata": {},
   "outputs": [
    {
     "data": {
      "text/html": [
       "<div>\n",
       "<style scoped>\n",
       "    .dataframe tbody tr th:only-of-type {\n",
       "        vertical-align: middle;\n",
       "    }\n",
       "\n",
       "    .dataframe tbody tr th {\n",
       "        vertical-align: top;\n",
       "    }\n",
       "\n",
       "    .dataframe thead th {\n",
       "        text-align: right;\n",
       "    }\n",
       "</style>\n",
       "<table border=\"1\" class=\"dataframe\">\n",
       "  <thead>\n",
       "    <tr style=\"text-align: right;\">\n",
       "      <th></th>\n",
       "      <th>State</th>\n",
       "    </tr>\n",
       "  </thead>\n",
       "  <tbody>\n",
       "    <tr>\n",
       "      <th>DE</th>\n",
       "      <td>10</td>\n",
       "    </tr>\n",
       "    <tr>\n",
       "      <th>TX</th>\n",
       "      <td>9</td>\n",
       "    </tr>\n",
       "    <tr>\n",
       "      <th>AK</th>\n",
       "      <td>8</td>\n",
       "    </tr>\n",
       "  </tbody>\n",
       "</table>\n",
       "</div>"
      ],
      "text/plain": [
       "    State\n",
       "DE     10\n",
       "TX      9\n",
       "AK      8"
      ]
     },
     "execution_count": 235,
     "metadata": {},
     "output_type": "execute_result"
    }
   ],
   "source": [
    "pd.DataFrame(summ1.State.value_counts())"
   ]
  },
  {
   "cell_type": "code",
   "execution_count": 236,
   "id": "c114cb27",
   "metadata": {},
   "outputs": [
    {
     "name": "stdout",
     "output_type": "stream",
     "text": [
      "Total customers from these 3 states =  27\n"
     ]
    }
   ],
   "source": [
    "print('Total customers from these 3 states = ', summ1.State.value_counts().sum())"
   ]
  },
  {
   "cell_type": "markdown",
   "id": "45cd8d7c",
   "metadata": {},
   "source": [
    "### 11. Draw a pie chart between the aggregated value of claim amount based on gender and segment. Represent the claim amount as a percentage on the pie chart."
   ]
  },
  {
   "cell_type": "code",
   "execution_count": 221,
   "id": "cf874002",
   "metadata": {},
   "outputs": [],
   "source": [
    "summ2 = combined_data.groupby('gender').claim_amount.sum()"
   ]
  },
  {
   "cell_type": "code",
   "execution_count": 297,
   "id": "60ab1b34",
   "metadata": {},
   "outputs": [
    {
     "data": {
      "image/png": "[encoded data removed]",
      "text/plain": [
       "<Figure size 640x480 with 1 Axes>"
      ]
     },
     "metadata": {},
     "output_type": "display_data"
    }
   ],
   "source": [
    "summ2.plot(kind= 'pie', autopct = '%1.0f%%')\n",
    "plt.title('Proportion of claim amount based on gender')\n",
    "plt.show()"
   ]
  },
  {
   "cell_type": "code",
   "execution_count": 225,
   "id": "9d7cc404",
   "metadata": {},
   "outputs": [],
   "source": [
    "summ3 = combined_data.groupby('Segment').claim_amount.sum()"
   ]
  },
  {
   "cell_type": "code",
   "execution_count": 301,
   "id": "5368d9da",
   "metadata": {},
   "outputs": [
    {
     "data": {
      "image/png": "[encoded data removed]",
      "text/plain": [
       "<Figure size 600x600 with 1 Axes>"
      ]
     },
     "metadata": {},
     "output_type": "display_data"
    }
   ],
   "source": [
    "plt.figure(figsize= (6,6))\n",
    "summ3.plot(kind = 'pie', autopct = '%1.0f%%')\n",
    "plt.title('Proportion of claim amount based on segment')\n",
    "plt.show()"
   ]
  },
  {
   "cell_type": "markdown",
   "id": "73a84437",
   "metadata": {},
   "source": [
    "### 12. Among males and females, which gender had claimed the most for any type of driver related issues? E.g. This metric can be compared using a bar chart"
   ]
  },
  {
   "cell_type": "code",
   "execution_count": 231,
   "id": "960f343a",
   "metadata": {},
   "outputs": [
    {
     "data": {
      "text/plain": [
       "Other causes          289\n",
       "Driver error          260\n",
       "Other driver error    247\n",
       "Natural causes        188\n",
       "Crime                 109\n",
       "Name: incident_cause, dtype: int64"
      ]
     },
     "execution_count": 231,
     "metadata": {},
     "output_type": "execute_result"
    }
   ],
   "source": [
    "combined_data.incident_cause.value_counts()"
   ]
  },
  {
   "cell_type": "code",
   "execution_count": 251,
   "id": "f9d43247",
   "metadata": {},
   "outputs": [],
   "source": [
    "summ4 = combined_data[ combined_data['incident_cause'].isin(['Driver error','Other driver error']) ]"
   ]
  },
  {
   "cell_type": "code",
   "execution_count": 252,
   "id": "60fcdaa8",
   "metadata": {},
   "outputs": [],
   "source": [
    "summ4 = summ4.loc[ : :, ['gender', 'claim_amount']]"
   ]
  },
  {
   "cell_type": "code",
   "execution_count": 258,
   "id": "058a1a16",
   "metadata": {},
   "outputs": [
    {
     "data": {
      "text/plain": [
       "gender\n",
       "Female    3.136377e+06\n",
       "Male      4.069583e+06\n",
       "Name: claim_amount, dtype: float64"
      ]
     },
     "execution_count": 258,
     "metadata": {},
     "output_type": "execute_result"
    }
   ],
   "source": [
    "summ4"
   ]
  },
  {
   "cell_type": "code",
   "execution_count": 296,
   "id": "6e753b67",
   "metadata": {},
   "outputs": [
    {
     "data": {
      "image/png": "[encoded data removed]",
      "text/plain": [
       "<Figure size 640x480 with 1 Axes>"
      ]
     },
     "metadata": {},
     "output_type": "display_data"
    }
   ],
   "source": [
    "summ4.plot(kind = 'bar')\n",
    "plt.ylabel('claim amount')\n",
    "plt.title('Comparision of gender based on claim amount for driver related issues')\n",
    "plt.tight_layout()\n",
    "plt.show()"
   ]
  },
  {
   "cell_type": "markdown",
   "id": "e595b08c",
   "metadata": {},
   "source": [
    "### 13. Which age group had the maximum fraudulent policy claims? Visualize it on a bar chart."
   ]
  },
  {
   "cell_type": "code",
   "execution_count": 268,
   "id": "6794a713",
   "metadata": {},
   "outputs": [],
   "source": [
    "summ5 = combined_data[combined_data.fraudulent == 'Yes']"
   ]
  },
  {
   "cell_type": "code",
   "execution_count": 273,
   "id": "5f1f07bf",
   "metadata": {},
   "outputs": [
    {
     "data": {
      "text/plain": [
       "age_category\n",
       "Children      0\n",
       "Youth        39\n",
       "Adult       192\n",
       "Senior       21\n",
       "Name: fraudulent, dtype: int64"
      ]
     },
     "execution_count": 273,
     "metadata": {},
     "output_type": "execute_result"
    }
   ],
   "source": [
    "summ6 = summ5.groupby('age_category').fraudulent.count()\n",
    "summ6"
   ]
  },
  {
   "cell_type": "code",
   "execution_count": 295,
   "id": "3a2f0d48",
   "metadata": {},
   "outputs": [
    {
     "data": {
      "image/png": "[encoded data removed]",
      "text/plain": [
       "<Figure size 640x480 with 1 Axes>"
      ]
     },
     "metadata": {},
     "output_type": "display_data"
    }
   ],
   "source": [
    "summ6.plot(kind = 'barh')\n",
    "plt.ylabel('age group')\n",
    "plt.xlabel('Count of fraudulent claims')\n",
    "plt.title('Comparision of age groups based on fraudulent claims')\n",
    "plt.tight_layout()\n",
    "plt.show()"
   ]
  },
  {
   "cell_type": "markdown",
   "id": "f45cd97c",
   "metadata": {},
   "source": [
    "### Age group of adults (30-60) has the highest fraudulent claims."
   ]
  },
  {
   "cell_type": "markdown",
   "id": "47b193d9",
   "metadata": {},
   "source": [
    "### 14. Visualize the monthly trend of the total amount that has been claimed by the customers. Ensure that on the “month” axis, the month is in a chronological order not alphabetical order."
   ]
  },
  {
   "cell_type": "code",
   "execution_count": 285,
   "id": "168e8f25",
   "metadata": {},
   "outputs": [],
   "source": [
    "# Group the data by month and calculate the total amount claimed for each month:\n",
    "\n",
    "monthly_total = combined_data.groupby(combined_data['claim_date'].dt.month)['claim_amount'].sum()\n",
    "\n",
    "# Create a list of month names:\n",
    "\n",
    "month_names = ['Jan', 'Feb', 'Mar', 'Apr', 'May', 'Jun', 'Jul', 'Aug', 'Sep', 'Oct', 'Nov', 'Dec']\n"
   ]
  },
  {
   "cell_type": "code",
   "execution_count": 302,
   "id": "60a81be5",
   "metadata": {},
   "outputs": [
    {
     "data": {
      "image/png": "[encoded data removed]",
      "text/plain": [
       "<Figure size 800x600 with 1 Axes>"
      ]
     },
     "metadata": {},
     "output_type": "display_data"
    }
   ],
   "source": [
    "# Plotting the monthly trend:\n",
    "\n",
    "plt.figure(figsize= (8,6))\n",
    "monthly_total.plot(marker='o', color='green', xticks=monthly_total.index)\n",
    "plt.xlabel('Month')\n",
    "plt.ylabel('Total Amount Claimed')\n",
    "plt.title('Monthly Trend of Total Amount Claimed')\n",
    "plt.xticks(monthly_total.index, month_names)\n",
    "plt.show()"
   ]
  },
  {
   "cell_type": "markdown",
   "id": "057be74e",
   "metadata": {},
   "source": [
    "### 15. What is the average claim amount for gender and age categories and suitably represent the above using a sacetted bar chart, one facet that represents fraudulent claims and the other for non-fraudulent claims."
   ]
  },
  {
   "cell_type": "code",
   "execution_count": 304,
   "id": "cdf17e26",
   "metadata": {},
   "outputs": [
    {
     "data": {
      "text/html": [
       "<div>\n",
       "<style scoped>\n",
       "    .dataframe tbody tr th:only-of-type {\n",
       "        vertical-align: middle;\n",
       "    }\n",
       "\n",
       "    .dataframe tbody tr th {\n",
       "        vertical-align: top;\n",
       "    }\n",
       "\n",
       "    .dataframe thead th {\n",
       "        text-align: right;\n",
       "    }\n",
       "</style>\n",
       "<table border=\"1\" class=\"dataframe\">\n",
       "  <thead>\n",
       "    <tr style=\"text-align: right;\">\n",
       "      <th></th>\n",
       "      <th>gender</th>\n",
       "      <th>age_category</th>\n",
       "      <th>fraudulent</th>\n",
       "      <th>claim_amount</th>\n",
       "    </tr>\n",
       "  </thead>\n",
       "  <tbody>\n",
       "    <tr>\n",
       "      <th>0</th>\n",
       "      <td>Female</td>\n",
       "      <td>Children</td>\n",
       "      <td>No</td>\n",
       "      <td>NaN</td>\n",
       "    </tr>\n",
       "    <tr>\n",
       "      <th>1</th>\n",
       "      <td>Female</td>\n",
       "      <td>Children</td>\n",
       "      <td>Yes</td>\n",
       "      <td>NaN</td>\n",
       "    </tr>\n",
       "    <tr>\n",
       "      <th>2</th>\n",
       "      <td>Female</td>\n",
       "      <td>Youth</td>\n",
       "      <td>No</td>\n",
       "      <td>13172.932069</td>\n",
       "    </tr>\n",
       "    <tr>\n",
       "      <th>3</th>\n",
       "      <td>Female</td>\n",
       "      <td>Youth</td>\n",
       "      <td>Yes</td>\n",
       "      <td>9215.499907</td>\n",
       "    </tr>\n",
       "    <tr>\n",
       "      <th>4</th>\n",
       "      <td>Female</td>\n",
       "      <td>Adult</td>\n",
       "      <td>No</td>\n",
       "      <td>11982.134667</td>\n",
       "    </tr>\n",
       "    <tr>\n",
       "      <th>5</th>\n",
       "      <td>Female</td>\n",
       "      <td>Adult</td>\n",
       "      <td>Yes</td>\n",
       "      <td>12628.384583</td>\n",
       "    </tr>\n",
       "    <tr>\n",
       "      <th>6</th>\n",
       "      <td>Female</td>\n",
       "      <td>Senior</td>\n",
       "      <td>No</td>\n",
       "      <td>14958.874878</td>\n",
       "    </tr>\n",
       "    <tr>\n",
       "      <th>7</th>\n",
       "      <td>Female</td>\n",
       "      <td>Senior</td>\n",
       "      <td>Yes</td>\n",
       "      <td>3779.076923</td>\n",
       "    </tr>\n",
       "    <tr>\n",
       "      <th>8</th>\n",
       "      <td>Male</td>\n",
       "      <td>Children</td>\n",
       "      <td>No</td>\n",
       "      <td>NaN</td>\n",
       "    </tr>\n",
       "    <tr>\n",
       "      <th>9</th>\n",
       "      <td>Male</td>\n",
       "      <td>Children</td>\n",
       "      <td>Yes</td>\n",
       "      <td>NaN</td>\n",
       "    </tr>\n",
       "    <tr>\n",
       "      <th>10</th>\n",
       "      <td>Male</td>\n",
       "      <td>Youth</td>\n",
       "      <td>No</td>\n",
       "      <td>12087.761330</td>\n",
       "    </tr>\n",
       "    <tr>\n",
       "      <th>11</th>\n",
       "      <td>Male</td>\n",
       "      <td>Youth</td>\n",
       "      <td>Yes</td>\n",
       "      <td>7798.166640</td>\n",
       "    </tr>\n",
       "    <tr>\n",
       "      <th>12</th>\n",
       "      <td>Male</td>\n",
       "      <td>Adult</td>\n",
       "      <td>No</td>\n",
       "      <td>12335.718037</td>\n",
       "    </tr>\n",
       "    <tr>\n",
       "      <th>13</th>\n",
       "      <td>Male</td>\n",
       "      <td>Adult</td>\n",
       "      <td>Yes</td>\n",
       "      <td>15664.361357</td>\n",
       "    </tr>\n",
       "    <tr>\n",
       "      <th>14</th>\n",
       "      <td>Male</td>\n",
       "      <td>Senior</td>\n",
       "      <td>No</td>\n",
       "      <td>12606.033301</td>\n",
       "    </tr>\n",
       "    <tr>\n",
       "      <th>15</th>\n",
       "      <td>Male</td>\n",
       "      <td>Senior</td>\n",
       "      <td>Yes</td>\n",
       "      <td>16879.125000</td>\n",
       "    </tr>\n",
       "  </tbody>\n",
       "</table>\n",
       "</div>"
      ],
      "text/plain": [
       "    gender age_category fraudulent  claim_amount\n",
       "0   Female     Children         No           NaN\n",
       "1   Female     Children        Yes           NaN\n",
       "2   Female        Youth         No  13172.932069\n",
       "3   Female        Youth        Yes   9215.499907\n",
       "4   Female        Adult         No  11982.134667\n",
       "5   Female        Adult        Yes  12628.384583\n",
       "6   Female       Senior         No  14958.874878\n",
       "7   Female       Senior        Yes   3779.076923\n",
       "8     Male     Children         No           NaN\n",
       "9     Male     Children        Yes           NaN\n",
       "10    Male        Youth         No  12087.761330\n",
       "11    Male        Youth        Yes   7798.166640\n",
       "12    Male        Adult         No  12335.718037\n",
       "13    Male        Adult        Yes  15664.361357\n",
       "14    Male       Senior         No  12606.033301\n",
       "15    Male       Senior        Yes  16879.125000"
      ]
     },
     "execution_count": 304,
     "metadata": {},
     "output_type": "execute_result"
    }
   ],
   "source": [
    "summ7 = combined_data.groupby(['gender', 'age_category', 'fraudulent'])['claim_amount'].mean().reset_index()\n",
    "summ7"
   ]
  },
  {
   "cell_type": "code",
   "execution_count": 313,
   "id": "ab1fb81e",
   "metadata": {},
   "outputs": [
    {
     "data": {
      "text/plain": [
       "<Figure size 1200x600 with 0 Axes>"
      ]
     },
     "metadata": {},
     "output_type": "display_data"
    },
    {
     "data": {
      "image/png": "[encoded data removed]",
      "text/plain": [
       "<Figure size 1100.25x500 with 2 Axes>"
      ]
     },
     "metadata": {},
     "output_type": "display_data"
    }
   ],
   "source": [
    "# Plotting the scaetted bar chart:\n",
    "\n",
    "plt.figure(figsize=(12, 6))\n",
    "sns.catplot(data=summ7, x='age_category', y='claim_amount', hue='gender', col='fraudulent', kind='bar', errorbar=None)\n",
    "plt.subplots_adjust(top=0.85)\n",
    "plt.suptitle('Average Claim Amount by Gender and Age Groups\\n(Fraudulent vs. Non-Fraudulent Claims)', fontsize=16)\n",
    "plt.show()"
   ]
  },
  {
   "cell_type": "markdown",
   "id": "cc1da8b5",
   "metadata": {},
   "source": [
    "## Hypothesis testing: "
   ]
  },
  {
   "cell_type": "markdown",
   "id": "fb4c6358",
   "metadata": {},
   "source": [
    "### 16. Is there any similarity in the amount claimed by males and females?"
   ]
  },
  {
   "cell_type": "code",
   "execution_count": null,
   "id": "5eba2236",
   "metadata": {},
   "outputs": [],
   "source": [
    "##### 1. Define Null Hypothesis, H0:\n",
    "            mean amount claimed by male =! mean amount claimed by females\n",
    "            u1 =! u2\n",
    "             \n",
    "##### 2. Define Alternate Hypothesis, Ha:\n",
    "            \n",
    "            mean amount claimed by male = mean amount claimed by females\n",
    "            u1 = u2\n",
    "            \n",
    "##### 3. Define CI & p value:\n",
    "            \n",
    "    CI = 95%\n",
    "    p values = 0.05\n",
    "    \n",
    "##### 4. Perform the test:\n",
    "            \n",
    "            t-test"
   ]
  },
  {
   "cell_type": "code",
   "execution_count": 323,
   "id": "f8d7d3df",
   "metadata": {},
   "outputs": [
    {
     "data": {
      "text/plain": [
       "12825.38866164359"
      ]
     },
     "execution_count": 323,
     "metadata": {},
     "output_type": "execute_result"
    }
   ],
   "source": [
    "male_amount_claimed = combined_data.loc[combined_data.gender == 'Male', 'claim_amount']\n",
    "male_amount_claimed.mean()"
   ]
  },
  {
   "cell_type": "code",
   "execution_count": 325,
   "id": "c30971c7",
   "metadata": {},
   "outputs": [
    {
     "data": {
      "text/plain": [
       "12099.717240787364"
      ]
     },
     "execution_count": 325,
     "metadata": {},
     "output_type": "execute_result"
    }
   ],
   "source": [
    "female_amount_claimed = combined_data.loc[combined_data.gender == 'Female', 'claim_amount']\n",
    "female_amount_claimed.mean()"
   ]
  },
  {
   "cell_type": "code",
   "execution_count": 326,
   "id": "1e78265d",
   "metadata": {},
   "outputs": [
    {
     "data": {
      "text/plain": [
       "Ttest_indResult(statistic=0.897746972800219, pvalue=0.3695185282320991)"
      ]
     },
     "execution_count": 326,
     "metadata": {},
     "output_type": "execute_result"
    }
   ],
   "source": [
    "#### test:\n",
    "\n",
    "stats.ttest_ind(male_amount_claimed, female_amount_claimed)"
   ]
  },
  {
   "cell_type": "markdown",
   "id": "136336e1",
   "metadata": {},
   "source": [
    "#### 5. Rejection reule:\n",
    "\n",
    "       p value obtaind in above output(0.3695185282320991) > 0.05\n",
    "       we didn't reject H0!!"
   ]
  },
  {
   "cell_type": "markdown",
   "id": "7d1d3c0b",
   "metadata": {},
   "source": [
    "#### Business conclusions:\n",
    "\n",
    "     Based on the given data set there was no similarity in the amount claimed by males and females"
   ]
  },
  {
   "cell_type": "markdown",
   "id": "bb7d5922",
   "metadata": {},
   "source": [
    "### 17. Is there any relationship between age category and segment?"
   ]
  },
  {
   "cell_type": "code",
   "execution_count": null,
   "id": "ae189638",
   "metadata": {},
   "outputs": [],
   "source": [
    "##### 1. Define Null Hypothesis, H0:\n",
    "            \n",
    "            Age category and segment are independent on each other \n",
    "\n",
    "##### 2. Define Alternate Hypothesis, Ha:\n",
    "            \n",
    "            Age category and segment are dependent on each other \n",
    "\n",
    "##### 3. Define CI & p value:\n",
    "            \n",
    "    CI = 95%\n",
    "    p values = 0.05\n",
    "    \n",
    "##### 4. Perform the test:\n",
    "            \n",
    "            Chi-Square "
   ]
  },
  {
   "cell_type": "code",
   "execution_count": 327,
   "id": "b163f544",
   "metadata": {},
   "outputs": [
    {
     "data": {
      "text/html": [
       "<div>\n",
       "<style scoped>\n",
       "    .dataframe tbody tr th:only-of-type {\n",
       "        vertical-align: middle;\n",
       "    }\n",
       "\n",
       "    .dataframe tbody tr th {\n",
       "        vertical-align: top;\n",
       "    }\n",
       "\n",
       "    .dataframe thead th {\n",
       "        text-align: right;\n",
       "    }\n",
       "</style>\n",
       "<table border=\"1\" class=\"dataframe\">\n",
       "  <thead>\n",
       "    <tr style=\"text-align: right;\">\n",
       "      <th>Segment</th>\n",
       "      <th>Gold</th>\n",
       "      <th>Platinum</th>\n",
       "      <th>Silver</th>\n",
       "    </tr>\n",
       "    <tr>\n",
       "      <th>age_category</th>\n",
       "      <th></th>\n",
       "      <th></th>\n",
       "      <th></th>\n",
       "    </tr>\n",
       "  </thead>\n",
       "  <tbody>\n",
       "    <tr>\n",
       "      <th>Youth</th>\n",
       "      <td>71</td>\n",
       "      <td>69</td>\n",
       "      <td>68</td>\n",
       "    </tr>\n",
       "    <tr>\n",
       "      <th>Adult</th>\n",
       "      <td>287</td>\n",
       "      <td>266</td>\n",
       "      <td>257</td>\n",
       "    </tr>\n",
       "    <tr>\n",
       "      <th>Senior</th>\n",
       "      <td>28</td>\n",
       "      <td>26</td>\n",
       "      <td>21</td>\n",
       "    </tr>\n",
       "  </tbody>\n",
       "</table>\n",
       "</div>"
      ],
      "text/plain": [
       "Segment       Gold  Platinum  Silver\n",
       "age_category                        \n",
       "Youth           71        69      68\n",
       "Adult          287       266     257\n",
       "Senior          28        26      21"
      ]
     },
     "execution_count": 327,
     "metadata": {},
     "output_type": "execute_result"
    }
   ],
   "source": [
    "### creating cross_tab\n",
    "\n",
    "obs = pd.crosstab(index= combined_data.age_category , columns= combined_data.Segment)\n",
    "obs"
   ]
  },
  {
   "cell_type": "code",
   "execution_count": 328,
   "id": "51a75b2d",
   "metadata": {},
   "outputs": [
    {
     "data": {
      "text/plain": [
       "(0.6313174395846601,\n",
       " 0.959520832456615,\n",
       " 4,\n",
       " array([[ 73.45654163,  68.6989936 ,  65.84446478],\n",
       "        [286.05672461, 267.52973468, 256.41354071],\n",
       "        [ 26.48673376,  24.77127173,  23.74199451]]))"
      ]
     },
     "execution_count": 328,
     "metadata": {},
     "output_type": "execute_result"
    }
   ],
   "source": [
    "stats.chi2_contingency(obs)"
   ]
  },
  {
   "cell_type": "markdown",
   "id": "284bfc5f",
   "metadata": {},
   "source": [
    "#### 5. Rejection rule:\n",
    "     \n",
    "           As it is clear from above output, observed and expected frequency table values are very close to each other ,\n",
    "           so age_category and segment are not dependent on each other. Hence didn't reject H0!!\n",
    "            \n",
    "                                                   OR\n",
    "                                                   \n",
    "           New p value (0.959520832456615) > 0.05, so didn't reject H0!!\n",
    "                                       "
   ]
  },
  {
   "cell_type": "markdown",
   "id": "eddfd806",
   "metadata": {},
   "source": [
    "#### 6. Business conclusion:\n",
    "\n",
    "                Age_category and segment are not dependent on each other "
   ]
  },
  {
   "cell_type": "markdown",
   "id": "71264e0e",
   "metadata": {},
   "source": [
    "### 18. The current year has shown a significant rise in claim amounts as compared to 2016-17 fiscal average which was $10,000."
   ]
  },
  {
   "cell_type": "markdown",
   "id": "b6848c52",
   "metadata": {},
   "source": [
    "### we have the data for year 2017-18. current year = 2017-18, given mean = 10,000 for year 2016-2017"
   ]
  },
  {
   "cell_type": "markdown",
   "id": "2c91a402",
   "metadata": {},
   "source": [
    "##### 1. Define Null Hypothesis, H0:\n",
    "            \n",
    "            u <= 10,000\n",
    "\n",
    "##### 2. Define Alternate Hypothesis, Ha:\n",
    "            \n",
    "            u > 10,000\n",
    "\n",
    "##### 3. Define CI & p value:\n",
    "            \n",
    "    CI = 95%\n",
    "    p values = 0.05\n",
    "    \n",
    "##### 4. Perform the test:\n",
    "            \n",
    "            t-test "
   ]
  },
  {
   "cell_type": "code",
   "execution_count": 334,
   "id": "1e8f6a64",
   "metadata": {},
   "outputs": [
    {
     "data": {
      "text/plain": [
       "12475.499513618675"
      ]
     },
     "execution_count": 334,
     "metadata": {},
     "output_type": "execute_result"
    }
   ],
   "source": [
    "combined_data.claim_amount.mean()"
   ]
  },
  {
   "cell_type": "code",
   "execution_count": 335,
   "id": "ec5b693c",
   "metadata": {},
   "outputs": [
    {
     "data": {
      "text/plain": [
       "Ttest_1sampResult(statistic=6.1294570291875985, pvalue=1.2298028517276338e-09)"
      ]
     },
     "execution_count": 335,
     "metadata": {},
     "output_type": "execute_result"
    }
   ],
   "source": [
    "stats.ttest_1samp(combined_data.claim_amount, 10000)"
   ]
  },
  {
   "cell_type": "markdown",
   "id": "c77ac175",
   "metadata": {},
   "source": [
    "#### 5. Rejection rule\n",
    "\n",
    "         As the new p value in above output(1.2298028517276338e-09) < 0.05,\n",
    "         we reject H0!!"
   ]
  },
  {
   "cell_type": "markdown",
   "id": "e19e1261",
   "metadata": {},
   "source": [
    "####  6.Businss conclusion:\n",
    "\n",
    "           The current year has shown a rise in claim amounts as compared to 2016-17"
   ]
  },
  {
   "cell_type": "markdown",
   "id": "17c3fde5",
   "metadata": {},
   "source": [
    "### 19. Is there any difference between age groups and insurance claims?"
   ]
  },
  {
   "cell_type": "code",
   "execution_count": 336,
   "id": "b776f671",
   "metadata": {},
   "outputs": [
    {
     "data": {
      "text/plain": [
       "Adult       810\n",
       "Youth       208\n",
       "Senior       75\n",
       "Children      0\n",
       "Name: age_category, dtype: int64"
      ]
     },
     "execution_count": 336,
     "metadata": {},
     "output_type": "execute_result"
    }
   ],
   "source": [
    "combined_data.age_category.value_counts()"
   ]
  },
  {
   "cell_type": "markdown",
   "id": "85740d80",
   "metadata": {},
   "source": [
    "####      we don't have any records having age group lie in children category,\n",
    "    so, u1 = mean amount claimed by adults\n",
    "        u2 = mean amount claimed by youths\n",
    "        u3 = mean amount claimed by seniors"
   ]
  },
  {
   "cell_type": "markdown",
   "id": "7710e802",
   "metadata": {},
   "source": [
    "##### 1. Define Null Hypothesis, H0:\n",
    "            \n",
    "            u1 = u2 = u3 \n",
    "                 OR\n",
    "            different age groups have same mean of claim amount \n",
    "\n",
    "##### 2. Define Alternate Hypothesis, Ha:\n",
    "            \n",
    "              u1 != u2 != u3 \n",
    "                 OR\n",
    "            different age groups have different mean of claim amount\n",
    "\n",
    "##### 3. Define CI & p value:\n",
    "            \n",
    "    CI = 95%\n",
    "    p values = 0.05\n",
    "    \n",
    "##### 4. Perform the test:\n",
    "            \n",
    "            F-Test or ANOVA "
   ]
  },
  {
   "cell_type": "code",
   "execution_count": 338,
   "id": "99ef7cf3",
   "metadata": {},
   "outputs": [],
   "source": [
    "adult = combined_data.loc[combined_data.age_category == 'Adult', 'claim_amount']"
   ]
  },
  {
   "cell_type": "code",
   "execution_count": 339,
   "id": "8e596420",
   "metadata": {},
   "outputs": [],
   "source": [
    "youth = combined_data.loc[combined_data.age_category == 'Youth', 'claim_amount']"
   ]
  },
  {
   "cell_type": "code",
   "execution_count": 342,
   "id": "f2cce723",
   "metadata": {},
   "outputs": [],
   "source": [
    "senior = combined_data.loc[combined_data.age_category == 'Senior', 'claim_amount']"
   ]
  },
  {
   "cell_type": "code",
   "execution_count": 346,
   "id": "63cb46dd",
   "metadata": {},
   "outputs": [
    {
     "name": "stdout",
     "output_type": "stream",
     "text": [
      "Mean amount claimed by adult : 12654.0036790844\n",
      "Mean amount claimed by youth : 11849.14900104759\n",
      "Mean amount claimed by senoir : 12284.733281452658\n"
     ]
    }
   ],
   "source": [
    "print('Mean amount claimed by adult :', adult.mean())\n",
    "print('Mean amount claimed by youth :', youth.mean())\n",
    "print('Mean amount claimed by senoir :', senior.mean())\n",
    "\n",
    "# mean values of all age groups are very close to each other "
   ]
  },
  {
   "cell_type": "code",
   "execution_count": 344,
   "id": "9ebf1e8a",
   "metadata": {},
   "outputs": [
    {
     "data": {
      "text/plain": [
       "F_onewayResult(statistic=0.3085069265056167, pvalue=0.7346069817190959)"
      ]
     },
     "execution_count": 344,
     "metadata": {},
     "output_type": "execute_result"
    }
   ],
   "source": [
    "# perform the test:\n",
    "\n",
    "stats.f_oneway(adult, youth, senior)"
   ]
  },
  {
   "cell_type": "markdown",
   "id": "bd63d5e9",
   "metadata": {},
   "source": [
    "#### 5.Rejection Rule:\n",
    "\n",
    "             From above output p value (0.7346069817190959) > 0.05\n",
    "             Hence, Didn't reject H0!!"
   ]
  },
  {
   "cell_type": "markdown",
   "id": "03218da0",
   "metadata": {},
   "source": [
    "#### 6.Business Conclusion:\n",
    "                  \n",
    "                  Different age groups of customers may or may not have same card usage "
   ]
  },
  {
   "cell_type": "markdown",
   "id": "d607de6a",
   "metadata": {},
   "source": [
    "### 20. Is there any relationship between total number of policy claims and the claimed amount?"
   ]
  },
  {
   "cell_type": "markdown",
   "id": "2e1bd8fc",
   "metadata": {},
   "source": [
    "##### 1. Define Null Hypothesis, H0:\n",
    "            \n",
    "            total number of policy claimed and claimed amount are NOT related\n",
    "\n",
    "##### 2. Define Alternate Hypothesis, Ha:\n",
    "            \n",
    "            total number of policy claimed and claimed amount are related\n",
    "\n",
    "##### 3. Define CI & p value:\n",
    "            \n",
    "    CI = 95%\n",
    "    p values = 0.05\n",
    "    \n",
    "##### 4. Perform the test:\n",
    "            \n",
    "            pearsonr"
   ]
  },
  {
   "cell_type": "code",
   "execution_count": 350,
   "id": "c3393c0c",
   "metadata": {},
   "outputs": [
    {
     "data": {
      "text/plain": [
       "PearsonRResult(statistic=-0.023908971978697444, pvalue=0.42973091875449343)"
      ]
     },
     "execution_count": 350,
     "metadata": {},
     "output_type": "execute_result"
    }
   ],
   "source": [
    "stats.pearsonr(combined_data.total_policy_claims, combined_data.claim_amount)"
   ]
  },
  {
   "cell_type": "markdown",
   "id": "248e6272",
   "metadata": {},
   "source": [
    "##### 5. Rejection Rule:\n",
    "            \n",
    "            From the above output, the pearson co-efficeint value = -0.023908971978697444, which is very low, so no relation. \n",
    "            Hence, we didn't REJECT H0!!!!\n",
    "            \n",
    "                            OR\n",
    "                            \n",
    "             The new p value (0.42973091875449343) from the output > assumed p value( 0.05)\n",
    "             Hence, we didn't REJECT H0!!!!"
   ]
  },
  {
   "cell_type": "markdown",
   "id": "a746ee67",
   "metadata": {},
   "source": [
    "##### 6. Business Conclusion:\n",
    "                \n",
    "             There is no relation between the total number of policy claimed and claimed amount."
   ]
  },
  {
   "cell_type": "code",
   "execution_count": 352,
   "id": "715ec5b7",
   "metadata": {},
   "outputs": [
    {
     "data": {
      "text/plain": [
       "<AxesSubplot: xlabel='total_policy_claims', ylabel='claim_amount'>"
      ]
     },
     "execution_count": 352,
     "metadata": {},
     "output_type": "execute_result"
    },
    {
     "data": {
      "image/png": "[encoded data removed]",
      "text/plain": [
       "<Figure size 640x480 with 1 Axes>"
      ]
     },
     "metadata": {},
     "output_type": "display_data"
    }
   ],
   "source": [
    "sns.scatterplot( x = 'total_policy_claims', y = 'claim_amount', data = combined_data)"
   ]
  },
  {
   "cell_type": "markdown",
   "id": "3c567321",
   "metadata": {},
   "source": [
    "### Also, the scatter plot between total policy claimed and claim amount did not show any kind of direct or indirect relationship between them."
   ]
  },
  {
   "cell_type": "code",
   "execution_count": null,
   "id": "36478063",
   "metadata": {},
   "outputs": [],
   "source": []
  }
 ],
 "metadata": {
  "kernelspec": {
   "display_name": "Python 3 (ipykernel)",
   "language": "python",
   "name": "python3"
  },
  "language_info": {
   "codemirror_mode": {
    "name": "ipython",
    "version": 3
   },
   "file_extension": ".py",
   "mimetype": "text/x-python",
   "name": "python",
   "nbconvert_exporter": "python",
   "pygments_lexer": "ipython3",
   "version": "3.10.9"
  }
 },
 "nbformat": 4,
 "nbformat_minor": 5
}
